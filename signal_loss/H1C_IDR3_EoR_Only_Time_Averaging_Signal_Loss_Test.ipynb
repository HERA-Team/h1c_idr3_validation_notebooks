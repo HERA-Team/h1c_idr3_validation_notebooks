{
 "cells": [
  {
   "cell_type": "markdown",
   "id": "5ee34d82",
   "metadata": {},
   "source": [
    "# Coherent Time Averaging Signal Loss Test\n",
    "\n",
    "**Josh Dillon 5/16/22**\n",
    "\n",
    "This notebook performs the final power spectrum analysis for the Validation test of averaging coherently in LST before forming power spectra. It compares power spectra of just a simulated EoR using ~21 second integrations and compares them to power spectra of the same field computed after averaging coherently for ~210 seconds. "
   ]
  },
  {
   "cell_type": "code",
   "execution_count": 1,
   "id": "6acae237",
   "metadata": {
    "ExecuteTime": {
     "end_time": "2022-05-20T00:27:15.185756Z",
     "start_time": "2022-05-20T00:27:11.592545Z"
    }
   },
   "outputs": [],
   "source": [
    "import hera_pspec as hp\n",
    "import numpy as np\n",
    "from utils import load_red_uvps, red_avg\n",
    "import matplotlib.pyplot as plt\n",
    "import copy\n",
    "import scipy\n",
    "%matplotlib inline"
   ]
  },
  {
   "cell_type": "code",
   "execution_count": 2,
   "id": "02db7197",
   "metadata": {
    "ExecuteTime": {
     "end_time": "2022-05-20T00:27:48.065966Z",
     "start_time": "2022-05-20T00:27:15.189784Z"
    }
   },
   "outputs": [],
   "source": [
    "# Import power spectrum without extra time-averaging\n",
    "psc = hp.PSpecContainer(\"/lustre/aoc/projects/hera/Validation/test-4.1.0/LSTBIN/eor_only/all_epochs/pspec/pspec.grp1.of1.true_eor.K.h5\", keep_open=False)\n",
    "uvps_eor_K, lens, angs, Nblps = load_red_uvps(psc, 'stokespol')"
   ]
  },
  {
   "cell_type": "code",
   "execution_count": 3,
   "id": "8ddbbe48",
   "metadata": {
    "ExecuteTime": {
     "end_time": "2022-05-20T00:27:50.769130Z",
     "start_time": "2022-05-20T00:27:48.069891Z"
    }
   },
   "outputs": [],
   "source": [
    "# Import power spectrum with extra time-averaging\n",
    "psc = hp.PSpecContainer(\"/lustre/aoc/projects/hera/Validation/test-4.1.0/LSTBIN/eor_only/all_epochs/pspec/pspec.grp1.of1.true_eor.TK.h5\", keep_open=False)\n",
    "uvps_eor_TK, lens, angs, Nblps  = load_red_uvps(psc, 'stokespol')"
   ]
  },
  {
   "cell_type": "code",
   "execution_count": 4,
   "id": "50bb9040",
   "metadata": {
    "ExecuteTime": {
     "end_time": "2022-05-20T00:27:51.587495Z",
     "start_time": "2022-05-20T00:27:50.773605Z"
    }
   },
   "outputs": [],
   "source": [
    "# set all noise power spectra to unity\n",
    "for uvps_eor in [uvps_eor_K, uvps_eor_TK]:\n",
    "    for uvps in uvps_eor:\n",
    "        for key in uvps.get_all_keys():\n",
    "            uvps.set_stats('P_N', key, np.ones_like(uvps.get_data(key), dtype=float))"
   ]
  },
  {
   "cell_type": "code",
   "execution_count": 5,
   "id": "d5d749eb",
   "metadata": {
    "ExecuteTime": {
     "end_time": "2022-05-20T00:31:58.980163Z",
     "start_time": "2022-05-20T00:27:51.589337Z"
    },
    "scrolled": false
   },
   "outputs": [],
   "source": [
    "# redundant average\n",
    "uvp_eor_K_avg = red_avg(uvps_eor_K, exclude_autos=False, exclude_cross=True)\n",
    "uvp_eor_TK_avg = red_avg(uvps_eor_TK, exclude_autos=False, exclude_cross=True)"
   ]
  },
  {
   "cell_type": "code",
   "execution_count": 6,
   "id": "413d5111",
   "metadata": {
    "ExecuteTime": {
     "end_time": "2022-05-20T00:33:21.878420Z",
     "start_time": "2022-05-20T00:31:58.985218Z"
    }
   },
   "outputs": [],
   "source": [
    "# file containing final per-baseline power spectra from the end-to-end validation test\n",
    "df = '/lustre/aoc/projects/hera/Validation/test-4.1.0/LSTBIN/fg_only/all_epochs_preprocessed/pspec/pspec.grp1.of1.LPXLTK.h5'\n",
    "# load get pspec container for cross-talk subtracted files\n",
    "psc = hp.container.PSpecContainer(df, keep_open=False)\n",
    "uvps_xtk, lens, angs, Nblps = load_red_uvps(psc, 'stokespol', proj_EW_cut=14., spws=[0, 1], polpairs=['pI'])\n",
    "\n",
    "uvp_xtk_ravg = red_avg(uvps_xtk, exclude_autos=False, exclude_cross=True, error_weights='P_N')"
   ]
  },
  {
   "cell_type": "code",
   "execution_count": 7,
   "id": "6c5cf0ba",
   "metadata": {
    "ExecuteTime": {
     "end_time": "2022-05-20T00:33:21.917217Z",
     "start_time": "2022-05-20T00:33:21.885877Z"
    }
   },
   "outputs": [],
   "source": [
    "# Generate key map\n",
    "xtk_blps = uvp_xtk_ravg.get_blpairs()\n",
    "xtk_vecs = uvp_xtk_ravg.bl_vecs\n",
    "key_map = {}\n",
    "for blp, vec in zip(uvp_eor_TK_avg.get_blpairs(), uvp_eor_TK_avg.bl_vecs):\n",
    "    assert np.min(np.linalg.norm(xtk_vecs[:, :2] - vec[:2], axis=1)) < 1\n",
    "    closest_blp = xtk_blps[np.argmin(np.linalg.norm(xtk_vecs[:, :2] - vec[:2], axis=1))]\n",
    "    for i in uvp_eor_TK_avg.spw_array:\n",
    "        key_map[(i, blp, ('pI', 'pI'))] = (i, closest_blp, ('pI', 'pI'))"
   ]
  },
  {
   "cell_type": "code",
   "execution_count": 8,
   "id": "ee03bc1f",
   "metadata": {
    "ExecuteTime": {
     "end_time": "2022-05-20T00:33:30.550257Z",
     "start_time": "2022-05-20T00:33:21.919549Z"
    }
   },
   "outputs": [],
   "source": [
    "# time average\n",
    "lst_cut = 0, 24\n",
    "\n",
    "eor_K_lsts = np.unique(uvp_eor_K_avg.lst_avg_array) * 12 / np.pi\n",
    "eor_TK_lsts = np.unique(uvp_eor_TK_avg.lst_avg_array) * 12 / np.pi\n",
    "\n",
    "uvp_eor_K_tavg = uvp_eor_K_avg.select(times=np.unique(uvp_eor_K_avg.time_avg_array)[(eor_K_lsts > lst_cut[0]) & (eor_K_lsts<lst_cut[1])], inplace=False)\n",
    "uvp_eor_TK_tavg = uvp_eor_TK_avg.select(times=np.unique(uvp_eor_TK_avg.time_avg_array)[(eor_TK_lsts > lst_cut[0]) & (eor_TK_lsts<lst_cut[1])], inplace=False)\n",
    "uvp_eor_K_tavg.average_spectra(time_avg=True, inplace=True, error_weights='P_N')\n",
    "uvp_eor_TK_tavg.average_spectra(time_avg=True, inplace=True, error_weights='P_N')"
   ]
  },
  {
   "cell_type": "code",
   "execution_count": 9,
   "id": "8cf0b60b",
   "metadata": {
    "ExecuteTime": {
     "end_time": "2022-05-20T00:33:31.361744Z",
     "start_time": "2022-05-20T00:33:30.552324Z"
    }
   },
   "outputs": [],
   "source": [
    "# time average end-to-end pspec\n",
    "lst_indexes = np.unique(uvp_xtk_ravg.lst_1_array, return_index=True)[1]\n",
    "uvp_xtk_lsts = np.array([uvp_xtk_ravg.lst_avg_array[i] for i in sorted(lst_indexes)])\n",
    "uvp_xtk_tavg = uvp_xtk_ravg.select(times=np.unique(uvp_xtk_ravg.time_avg_array)[(uvp_xtk_lsts > lst_cut[0]) & (uvp_xtk_lsts < lst_cut[1])], inplace=False)\n",
    "uvp_xtk_tavg.average_spectra(time_avg=True, inplace=True, error_weights='P_N')"
   ]
  },
  {
   "cell_type": "code",
   "execution_count": 10,
   "id": "789d1209",
   "metadata": {
    "ExecuteTime": {
     "end_time": "2022-05-20T00:33:31.500663Z",
     "start_time": "2022-05-20T00:33:31.365353Z"
    }
   },
   "outputs": [],
   "source": [
    "# use key map to set stats to match end-to-end pipeline\n",
    "for key in uvp_eor_K_tavg.get_all_keys():\n",
    "    uvp_eor_K_tavg.set_stats('P_N', key, uvp_xtk_tavg.get_stats('P_N', key_map[key]))\n",
    "    uvp_eor_TK_tavg.set_stats('P_N', key, uvp_xtk_tavg.get_stats('P_N', key_map[key]))    "
   ]
  },
  {
   "cell_type": "code",
   "execution_count": 11,
   "id": "07619637",
   "metadata": {
    "ExecuteTime": {
     "end_time": "2022-05-20T00:33:34.702115Z",
     "start_time": "2022-05-20T00:33:31.502321Z"
    }
   },
   "outputs": [
    {
     "name": "stderr",
     "output_type": "stream",
     "text": [
      "/users/jsdillon/lustre/tmp/ipykernel_28303/1350960226.py:38: RuntimeWarning: invalid value encountered in multiply\n",
      "  u.set_stats('P_N', k, np.ones_like(u.get_stats('P_N', k)) * np.inf)\n"
     ]
    }
   ],
   "source": [
    "# Spherical Binning Cuts\n",
    "wedge_buff_ns = 300\n",
    "sph_minimum_ew_distance = 15\n",
    "sph_minimum_bl_length = 0\n",
    "sph_maximum_bl_length = 1e100\n",
    "\n",
    "# Spherical Binning Parameters\n",
    "dk_multiplier = 2.0 # the size of each spherical k bin (Delta k) when multiplied by the natural k_para spacing\n",
    "k_start_multiplied = .75 # the center of first spherical k bin in units of Delta k\n",
    "\n",
    "uvp_eor_K_sph_1, uvp_eor_TK_sph_1 = None, None\n",
    "uvp_eor_K_sph_2, uvp_eor_TK_sph_2 = [], []\n",
    "\n",
    "# spherical average onto wide LOS k grid\n",
    "for uvp in [uvp_eor_K_tavg, uvp_eor_TK_tavg]:\n",
    "    for band in range(2):\n",
    "        # set dk separately for each band   \n",
    "        dk = dk_multiplier * np.median(np.diff(uvp.get_kparas(band)))\n",
    "        kbins = np.arange(k_start_multiplied * dk, 2.5, dk) # even spacing \n",
    "\n",
    "        u = copy.deepcopy(uvp)\n",
    "        # set P_N for all k_para modes below horizon delay + wedge_buff to large value\n",
    "        u.set_stats_slice('P_N', 1e9 / scipy.constants.c, wedge_buff_ns, above=False, val=np.inf)\n",
    "\n",
    "        # cut baselines by setting noise to infinity\n",
    "        for blp, blvec in zip(u.get_blpairs(), u.get_blpair_blvecs()):\n",
    "            cut = False\n",
    "            if np.linalg.norm(blvec) < sph_minimum_bl_length:\n",
    "                cut = True\n",
    "            if np.linalg.norm(blvec) > sph_maximum_bl_length:\n",
    "                cut = True\n",
    "            if np.abs(blvec[0]) < sph_minimum_ew_distance:\n",
    "                cut = True\n",
    "            if cut:\n",
    "                for spw in u.spw_array:\n",
    "                    for pp in u.get_polpairs():\n",
    "                        k = (spw, blp, pp)\n",
    "                        u.set_stats('P_N', k, np.ones_like(u.get_stats('P_N', k)) * np.inf)\n",
    "\n",
    "        # spherical average\n",
    "        sph = hp.grouping.spherical_average(u, kbins, dk, error_weights='P_N')\n",
    "        # append\n",
    "        if band == 0:\n",
    "            if uvp == uvp_eor_K_tavg:\n",
    "                uvp_eor_K_sph_1 = sph\n",
    "            elif uvp == uvp_eor_TK_tavg:\n",
    "                uvp_eor_TK_sph_1 = sph\n",
    "        elif band == 1:\n",
    "            if uvp == uvp_eor_K_tavg:\n",
    "                uvp_eor_K_sph_2 = sph\n",
    "            elif uvp == uvp_eor_TK_tavg:\n",
    "                uvp_eor_TK_sph_2 = sph                        "
   ]
  },
  {
   "cell_type": "code",
   "execution_count": 12,
   "id": "67c98720",
   "metadata": {
    "ExecuteTime": {
     "end_time": "2022-05-20T00:33:35.141079Z",
     "start_time": "2022-05-20T00:33:34.706343Z"
    }
   },
   "outputs": [
    {
     "name": "stderr",
     "output_type": "stream",
     "text": [
      "/users/jsdillon/lustre/tmp/ipykernel_28303/4157386059.py:10: RuntimeWarning: invalid value encountered in true_divide\n",
      "  p1, = ax.plot(kbins, uvp_eor_TK_sph.get_data(key).real[0] / uvp_eor_K_sph.get_data(key).real[0], lw=2, label=f'Band {band + 1}')\n"
     ]
    },
    {
     "data": {
      "image/png": "[encoded data removed]",
      "text/plain": [
       "<Figure size 600x350 with 1 Axes>"
      ]
     },
     "metadata": {
      "needs_background": "light"
     },
     "output_type": "display_data"
    }
   ],
   "source": [
    "# plot results\n",
    "fig, ax = plt.subplots(1, 1, figsize=(6,3.5), dpi=100)\n",
    "\n",
    "ax.tick_params(labelsize=12, direction='in', size=5)\n",
    "for band in range(2):\n",
    "    uvp_eor_TK_sph = [uvp_eor_TK_sph_1, uvp_eor_TK_sph_2][band]\n",
    "    uvp_eor_K_sph = [uvp_eor_K_sph_1, uvp_eor_K_sph_2][band]\n",
    "    kbins = kbins = uvp_eor_K_sph.get_kparas(band)\n",
    "    key = (band, uvp_eor_K_sph.get_blpairs()[0], 'pI')\n",
    "    p1, = ax.plot(kbins, uvp_eor_TK_sph.get_data(key).real[0] / uvp_eor_K_sph.get_data(key).real[0], lw=2, label=f'Band {band + 1}')\n",
    "\n",
    "ax.legend(fontsize=12)\n",
    "ax.axhline(1, c='k', ls='--')\n",
    "ax.set_xlim(.0, 2)\n",
    "ax.set_ylim(0.978, 1.01)\n",
    "# ax.grid()\n",
    "ax.set_xlabel(r'$k\\ (h\\ {\\rm Mpc}^{-1})$', fontsize=12)\n",
    "ax.set_ylabel(r'$\\bar{P}_{\\rm EoR}\\ /\\ P_{\\rm EoR}$', fontsize=12)\n",
    "plt.tight_layout()\n",
    "\n",
    "#fig.savefig(\"plots/test4_pspec_avg_EoR.pdf\", dpi=100, bbox_inches='tight')"
   ]
  },
  {
   "cell_type": "code",
   "execution_count": 13,
   "id": "522aa1b5",
   "metadata": {
    "ExecuteTime": {
     "end_time": "2022-05-20T00:33:35.232467Z",
     "start_time": "2022-05-20T00:33:35.142710Z"
    }
   },
   "outputs": [
    {
     "name": "stdout",
     "output_type": "stream",
     "text": [
      "uvp_eor_K_sph_1.h5 exists, overwriting...\n",
      "uvp_eor_K_sph_2.h5 exists, overwriting...\n",
      "uvp_eor_TK_sph_1.h5 exists, overwriting...\n",
      "uvp_eor_TK_sph_2.h5 exists, overwriting...\n"
     ]
    }
   ],
   "source": [
    "# save results for easy plotting elsewhere\n",
    "uvp_eor_K_sph_1.write_hdf5('uvp_eor_K_sph_1.h5', overwrite=True)\n",
    "uvp_eor_K_sph_2.write_hdf5('uvp_eor_K_sph_2.h5', overwrite=True)\n",
    "uvp_eor_TK_sph_1.write_hdf5('uvp_eor_TK_sph_1.h5', overwrite=True)\n",
    "uvp_eor_TK_sph_2.write_hdf5('uvp_eor_TK_sph_2.h5', overwrite=True)"
   ]
  },
  {
   "cell_type": "markdown",
   "id": "ba3cc18a",
   "metadata": {},
   "source": [
    "## Also perform field-averages of the EoR only to compare to end-to-end results"
   ]
  },
  {
   "cell_type": "code",
   "execution_count": 14,
   "id": "c338ed49",
   "metadata": {
    "ExecuteTime": {
     "end_time": "2022-05-20T00:33:35.240342Z",
     "start_time": "2022-05-20T00:33:35.235323Z"
    }
   },
   "outputs": [],
   "source": [
    "lstcuts = [(-2.5, 0), # Field A\n",
    "           (0.75, 2.75), # Field B\n",
    "           (4, 6.25), # Field C\n",
    "           (6.25, 9.25), # Field D\n",
    "           (9.25, 14.75),  # Field E\n",
    "          ]"
   ]
  },
  {
   "cell_type": "code",
   "execution_count": 15,
   "id": "507ce538",
   "metadata": {
    "ExecuteTime": {
     "end_time": "2022-05-20T00:33:40.849464Z",
     "start_time": "2022-05-20T00:33:35.242772Z"
    }
   },
   "outputs": [],
   "source": [
    "# average in lst fields\n",
    "uvp_xtk_tavg_by_field, uvp_eor_TK_tavg_by_field = [], []\n",
    "for field, lc in enumerate(lstcuts):\n",
    "    # weight time-average by P_N\n",
    "    lst_indexes = np.unique(uvp_xtk_ravg.lst_1_array, return_index=True)[1]\n",
    "    lsts = np.array([uvp_xtk_ravg.lst_avg_array[i] for i in sorted(lst_indexes)])\n",
    "    lsts_hrs = np.unwrap(lsts) * 12 / np.pi \n",
    "    while np.max(lsts_hrs) > 24:\n",
    "        lsts_hrs -= 24\n",
    "    \n",
    "    lcut = (lsts_hrs >= lc[0]) & (lsts_hrs <= lc[1])\n",
    "    if not np.any(lcut):\n",
    "        continue\n",
    "    \n",
    "    # select field\n",
    "    u_xtk = uvp_xtk_ravg.select(lsts=lsts[lcut], inplace=False)\n",
    "    u_eor = uvp_eor_TK_avg.select(lsts=lsts[lcut], inplace=False)    \n",
    "    if not np.any(np.isfinite(u_xtk.stats_array['P_N'][0])):\n",
    "        if not np.any(np.isfinite(u_xtk.stats_array['P_N'][1])):\n",
    "            continue    \n",
    "\n",
    "    # Update stats\n",
    "    for key in u_eor.get_all_keys():\n",
    "        u_eor.set_stats('P_N', key, u_xtk.get_stats('P_N', key_map[key]))       \n",
    "\n",
    "    # average in time\n",
    "    u_xtk.average_spectra(time_avg=True, error_weights='P_N')\n",
    "    uvp_xtk_tavg_by_field.append(u_xtk)\n",
    "    u_eor.average_spectra(time_avg=True, error_weights='P_N')\n",
    "    uvp_eor_TK_tavg_by_field.append(u_eor)"
   ]
  },
  {
   "cell_type": "code",
   "execution_count": 16,
   "id": "f9507ed8",
   "metadata": {
    "ExecuteTime": {
     "end_time": "2022-05-20T00:33:56.076254Z",
     "start_time": "2022-05-20T00:33:40.855272Z"
    }
   },
   "outputs": [
    {
     "name": "stderr",
     "output_type": "stream",
     "text": [
      "/users/jsdillon/lustre/tmp/ipykernel_28303/3123516150.py:34: RuntimeWarning: invalid value encountered in multiply\n",
      "  u_here.set_stats('P_N', k, np.ones_like(u_here.get_stats('P_N', k)) * np.inf)\n"
     ]
    }
   ],
   "source": [
    "uvp_xtk_dsq_1, uvp_eor_TK_dsq_1 = [], []\n",
    "uvp_xtk_dsq_2, uvp_eor_TK_dsq_2 = [], []\n",
    "\n",
    "# spherical average onto wide LOS k grid\n",
    "# note that only covariance arrays will be reliable, as stats_arrays cannot account for bin2bin correlation\n",
    "for band in range(2):\n",
    "    # set dk separately for each band   \n",
    "    dk = dk_multiplier * np.median(np.diff(uvp_xtk_tavg_by_field[0].get_kparas(band)))\n",
    "    kbins = np.arange(k_start_multiplied * dk, 2.5, dk) # even spacing \n",
    "\n",
    "    for uvp_xtk, uvp_eor in list(zip(uvp_xtk_tavg_by_field, uvp_eor_TK_tavg_by_field)):\n",
    "        # deepcopy\n",
    "        u_xtk, u_eor = copy.deepcopy(uvp_xtk), copy.deepcopy(uvp_eor)\n",
    "        # make a covariance based on norm_cov, scaled by P_N and P_SN if detection is > 2 sigma\n",
    "#         utils.stat_to_cov(u_xtk, 'P_SN', norm_cov)\n",
    "        # set P_N for all k_para modes below horizon delay + wedge_buff to large value\n",
    "        u_xtk.set_stats_slice('P_N', 1e9 / scipy.constants.c, wedge_buff_ns, above=False, val=np.inf)\n",
    "        u_eor.set_stats_slice('P_N', 1e9 / scipy.constants.c, wedge_buff_ns, above=False, val=np.inf)\n",
    "\n",
    "        # cut baselines by setting noise to infinity\n",
    "        for u_here in [u_xtk, u_eor]:\n",
    "            for blp, blvec in zip(u_here.get_blpairs(), u_here.get_blpair_blvecs()):\n",
    "                cut = False\n",
    "                if np.linalg.norm(blvec) < sph_minimum_bl_length:\n",
    "                    cut = True\n",
    "                if np.linalg.norm(blvec) > sph_maximum_bl_length:\n",
    "                    cut = True\n",
    "                if np.abs(blvec[0]) < sph_minimum_ew_distance:\n",
    "                    cut = True\n",
    "                if cut:\n",
    "                    for spw in u_xtk.spw_array:\n",
    "                        for pp in u_xtk.get_polpairs():\n",
    "                            k = (spw, blp, pp)\n",
    "                            u_here.set_stats('P_N', k, np.ones_like(u_here.get_stats('P_N', k)) * np.inf)\n",
    "\n",
    "        # spherical average\n",
    "        history = \"average weighted by P_N, with {} ns wedge buffer exclusion\".format(wedge_buff_ns)\n",
    "        sph_xtk = hp.grouping.spherical_average(u_xtk, kbins, dk, error_weights='P_N', add_to_history=history)\n",
    "        sph_eor = hp.grouping.spherical_average(u_eor, kbins, dk, error_weights='P_N', add_to_history=history)\n",
    "\n",
    "        if band == 0:            \n",
    "            uvp_xtk_dsq_1.append(sph_xtk.convert_to_deltasq(inplace=False))\n",
    "            uvp_eor_TK_dsq_1.append(sph_eor.convert_to_deltasq(inplace=False))\n",
    "        else:\n",
    "            uvp_xtk_dsq_2.append(sph_xtk.convert_to_deltasq(inplace=False))\n",
    "            uvp_eor_TK_dsq_2.append(sph_eor.convert_to_deltasq(inplace=False))            "
   ]
  },
  {
   "cell_type": "code",
   "execution_count": 24,
   "id": "26eabfcb",
   "metadata": {
    "ExecuteTime": {
     "end_time": "2022-05-20T02:18:50.654705Z",
     "start_time": "2022-05-20T02:18:50.272261Z"
    }
   },
   "outputs": [
    {
     "name": "stdout",
     "output_type": "stream",
     "text": [
      "EoR_TK_Deltasq_Band_1_Field_A.h5 exists, overwriting...\n",
      "EoR_TK_Deltasq_Band_1_Field_B.h5 exists, overwriting...\n",
      "EoR_TK_Deltasq_Band_1_Field_C.h5 exists, overwriting...\n",
      "EoR_TK_Deltasq_Band_1_Field_D.h5 exists, overwriting...\n",
      "EoR_TK_Deltasq_Band_1_Field_E.h5 exists, overwriting...\n",
      "EoR_TK_Deltasq_Band_2_Field_A.h5 exists, overwriting...\n",
      "EoR_TK_Deltasq_Band_2_Field_B.h5 exists, overwriting...\n",
      "EoR_TK_Deltasq_Band_2_Field_C.h5 exists, overwriting...\n",
      "EoR_TK_Deltasq_Band_2_Field_D.h5 exists, overwriting...\n",
      "EoR_TK_Deltasq_Band_2_Field_E.h5 exists, overwriting...\n"
     ]
    }
   ],
   "source": [
    "# results are saved to h5 files per-band and per-field\n",
    "for spw in [0, 1]:\n",
    "    uvp_eor_TK_dsq = [uvp_eor_TK_dsq_1, uvp_eor_TK_dsq_2][spw]        \n",
    "    \n",
    "    for field in range(len(uvp_eor_TK_dsq)):\n",
    "        # now write Delta sq\n",
    "        uvp = copy.deepcopy(uvp_eor_TK_dsq[field])\n",
    "        uvp.select(spws=[spw])\n",
    "        outfilename = f'EoR_TK_Deltasq_Band_{spw+1}_Field_{\"ABCDEFGHIJ\"[field]}.h5'\n",
    "        uvp.write_hdf5(outfilename, overwrite=True)    "
   ]
  },
  {
   "cell_type": "code",
   "execution_count": null,
   "id": "7f1d1a89",
   "metadata": {},
   "outputs": [],
   "source": []
  }
 ],
 "metadata": {
  "kernelspec": {
   "display_name": "Python 3 (ipykernel)",
   "language": "python",
   "name": "python3"
  },
  "language_info": {
   "codemirror_mode": {
    "name": "ipython",
    "version": 3
   },
   "file_extension": ".py",
   "mimetype": "text/x-python",
   "name": "python",
   "nbconvert_exporter": "python",
   "pygments_lexer": "ipython3",
   "version": "3.9.12"
  },
  "toc": {
   "base_numbering": 1,
   "nav_menu": {},
   "number_sections": true,
   "sideBar": true,
   "skip_h1_title": false,
   "title_cell": "Table of Contents",
   "title_sidebar": "Contents",
   "toc_cell": false,
   "toc_position": {},
   "toc_section_display": true,
   "toc_window_display": false
  },
  "varInspector": {
   "cols": {
    "lenName": 16,
    "lenType": 16,
    "lenVar": 40
   },
   "kernels_config": {
    "python": {
     "delete_cmd_postfix": "",
     "delete_cmd_prefix": "del ",
     "library": "var_list.py",
     "varRefreshCmd": "print(var_dic_list())"
    },
    "r": {
     "delete_cmd_postfix": ") ",
     "delete_cmd_prefix": "rm(",
     "library": "var_list.r",
     "varRefreshCmd": "cat(var_dic_list()) "
    }
   },
   "types_to_exclude": [
    "module",
    "function",
    "builtin_function_or_method",
    "instance",
    "_Feature"
   ],
   "window_display": false
  }
 },
 "nbformat": 4,
 "nbformat_minor": 5
}
