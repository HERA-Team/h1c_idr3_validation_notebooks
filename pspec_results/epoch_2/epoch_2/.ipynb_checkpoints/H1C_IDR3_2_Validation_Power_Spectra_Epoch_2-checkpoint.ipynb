{
 "cells": [
  {
   "cell_type": "markdown",
   "metadata": {},
   "source": [
    "# H1C IDR 3.2 Validation Power Spectra: Epoch 2\n",
    "\n",
    "Josh Dillon (adapted from the [work of Nick Kern](https://github.com/HERA-Team/H1C_IDR2/blob/master/notebooks/pspec_progress/power_spectrum_integration.ipynb))."
   ]
  },
  {
   "cell_type": "markdown",
   "metadata": {},
   "source": [
    "## Settings"
   ]
  },
  {
   "cell_type": "code",
   "execution_count": 1,
   "metadata": {
    "ExecuteTime": {
     "end_time": "2022-04-19T17:00:23.803390Z",
     "start_time": "2022-04-19T17:00:23.787373Z"
    }
   },
   "outputs": [],
   "source": [
    "prefix = '' # append this string to the front of all filenames\n",
    "figures_folder = 'figures' # where to save resultant figures\n",
    "results_folder = 'results_files' # where to save final Delta^2 uvpspec objects\n",
    "import os\n",
    "if not os.path.exists(figures_folder):\n",
    "    os.makedirs(figures_folder)\n",
    "if not os.path.exists(results_folder):\n",
    "    os.makedirs(results_folder)    "
   ]
  },
  {
   "cell_type": "code",
   "execution_count": 2,
   "metadata": {
    "ExecuteTime": {
     "end_time": "2022-04-19T17:00:23.843577Z",
     "start_time": "2022-04-19T17:00:23.806008Z"
    }
   },
   "outputs": [],
   "source": [
    "# file containing final per-baseline power spectra \n",
    "df = '/lustre/aoc/projects/hera/Validation/test-4.1.0/LSTBIN/epoch_2/pspec/pspec.grp1.of1.PXTK.h5'\n",
    "\n",
    "# file containing matching power spectra without cross-talk subtraction\n",
    "no_xtalk_df = '/lustre/aoc/projects/hera/Validation/test-4.1.0/LSTBIN/epoch_2/pspec/pspec.grp1.of1.PTK.h5'"
   ]
  },
  {
   "cell_type": "code",
   "execution_count": 3,
   "metadata": {
    "ExecuteTime": {
     "end_time": "2022-04-19T17:00:23.862534Z",
     "start_time": "2022-04-19T17:00:23.845501Z"
    }
   },
   "outputs": [],
   "source": [
    "# overall signal loss corrections, per band\n",
    "abscal_bias = {0: 1.0, 1: 1.0}  # this goes into data and errors    TODO: pending validation\n",
    "other_bias = {0: 1.05, 1: 1.03}  # this goes into just data         TODO: revisit these numbers after validation and statistical tests are complete"
   ]
  },
  {
   "cell_type": "code",
   "execution_count": 4,
   "metadata": {
    "ExecuteTime": {
     "end_time": "2022-04-19T17:00:23.888980Z",
     "start_time": "2022-04-19T17:00:23.865114Z"
    }
   },
   "outputs": [],
   "source": [
    "# LST ranges of fields\n",
    "lstcuts = [(-2.5, 0), # Field A\n",
    "           (0.75, 2.75), # Field B\n",
    "           (4, 6.25), # Field C\n",
    "           (6.25, 9.25), # Field D\n",
    "           (9.25, 14.75),  # Field E\n",
    "          ]\n",
    "\n",
    "lst_colors = ['limegreen', 'gold', 'cyan', 'deeppink', 'mediumorchid', 'aquamarine']"
   ]
  },
  {
   "cell_type": "code",
   "execution_count": 5,
   "metadata": {
    "ExecuteTime": {
     "end_time": "2022-04-19T17:00:24.109448Z",
     "start_time": "2022-04-19T17:00:23.890607Z"
    }
   },
   "outputs": [],
   "source": [
    "# Parameters for |SNR| analysis\n",
    "SNR_fields_to_use = [1, 2, 3] # (i.e. B, C, D): these are the fields to look for excess systematics\n",
    "xtalk_dly_min = 800 # ns\n",
    "xtalk_dly_max = 1500 # ns\n",
    "high_dly_diff = 2000 # ns (amount to increase above delays for comparison to noise-dominated delays)\n",
    "\n",
    "# Parameters of |SNR| cuts\n",
    "auto_xtalk_snr_cut = 1.5"
   ]
  },
  {
   "cell_type": "code",
   "execution_count": 6,
   "metadata": {
    "ExecuteTime": {
     "end_time": "2022-04-19T17:00:24.131422Z",
     "start_time": "2022-04-19T17:00:24.111651Z"
    }
   },
   "outputs": [],
   "source": [
    "# Spherical Binning Cuts\n",
    "wedge_buff_ns = 300\n",
    "sph_minimum_ew_distance = 15\n",
    "sph_minimum_bl_length = 0\n",
    "sph_maximum_bl_length = 1e100\n",
    "\n",
    "# Spherical Binning Parameters\n",
    "dk_multiplier = 2.0 # the size of each spherical k bin (Delta k) when multiplied by the natural k_para spacing\n",
    "k_start_multiplied = .75 # the center of first spherical k bin in units of Delta k"
   ]
  },
  {
   "cell_type": "markdown",
   "metadata": {},
   "source": [
    "## Imports"
   ]
  },
  {
   "cell_type": "code",
   "execution_count": 7,
   "metadata": {
    "ExecuteTime": {
     "end_time": "2022-04-19T17:01:16.896426Z",
     "start_time": "2022-04-19T17:00:24.133518Z"
    }
   },
   "outputs": [],
   "source": [
    "%matplotlib inline\n",
    "import numpy as np\n",
    "import matplotlib\n",
    "import matplotlib.pyplot as plt\n",
    "from matplotlib import ticker\n",
    "import glob\n",
    "import warnings\n",
    "import hera_cal as hc\n",
    "import hera_pspec as hp\n",
    "from pyuvdata import UVBeam, UVData, UVCal, UVFlag, utils as uvutils\n",
    "import pyuvdata\n",
    "from scipy import stats, signal, interpolate\n",
    "import scipy\n",
    "from memory_profiler import memory_usage\n",
    "import copy\n",
    "import matplotlib.gridspec as gridspec\n",
    "from astropy import constants, units, coordinates as crd\n",
    "from astropy.time import Time\n",
    "import uvtools as uvt\n",
    "import pandas as pd\n",
    "from IPython.core.display import display, HTML\n",
    "import git  # pip install gitpython\n",
    "import simpleqe as sqe"
   ]
  },
  {
   "cell_type": "code",
   "execution_count": 8,
   "metadata": {
    "ExecuteTime": {
     "end_time": "2022-04-19T17:01:16.905027Z",
     "start_time": "2022-04-19T17:01:16.899585Z"
    }
   },
   "outputs": [],
   "source": [
    "from matplotlib import rc\n",
    "rc('font',**{'family':'serif', 'serif':['times new roman'], 'size': 18})\n",
    "rc('text', usetex=True)"
   ]
  },
  {
   "cell_type": "code",
   "execution_count": 9,
   "metadata": {
    "ExecuteTime": {
     "end_time": "2022-04-19T17:01:16.947026Z",
     "start_time": "2022-04-19T17:01:16.907089Z"
    }
   },
   "outputs": [],
   "source": [
    "# add utils.py helper IO and plotting functions to path\n",
    "import sys\n",
    "import imp\n",
    "sys.path.insert(1, \"../\")\n",
    "import utils\n",
    "imp.reload(utils);"
   ]
  },
  {
   "cell_type": "code",
   "execution_count": 10,
   "metadata": {
    "ExecuteTime": {
     "end_time": "2022-04-19T17:01:16.965064Z",
     "start_time": "2022-04-19T17:01:16.951287Z"
    }
   },
   "outputs": [
    {
     "name": "stdout",
     "output_type": "stream",
     "text": [
      "Module pyuvdata   ....\tVersion 2.2.7.d.......\tGit None                \n",
      "Module hera_pspec ....\tVersion 0.3.0  .......\tGit 4d2fe17e2015b02b1668\n",
      "Module hera_cal   ....\tVersion 3.0    .......\tGit f183e17b87835f421dae\n"
     ]
    }
   ],
   "source": [
    "# print git hashes and versions\n",
    "for module in [pyuvdata, hp, hc]:\n",
    "    vs = getattr(module, \"__version__\", None)\n",
    "    try:\n",
    "        gh = git.Repo('/'.join(module.__path__[0].split('/')[:-1])).head.commit.hexsha\n",
    "    except:\n",
    "        if hasattr(module, \"version\"):\n",
    "            gh = module.version.git_hash\n",
    "        else:\n",
    "            gh = 'None'\n",
    "    print(\"Module {:<11}....\\tVersion {:<7}.......\\tGit {:<20}\".format(module.__name__, vs[:7], gh[:20]))"
   ]
  },
  {
   "cell_type": "markdown",
   "metadata": {},
   "source": [
    "# Show Flags and Bands"
   ]
  },
  {
   "cell_type": "code",
   "execution_count": 11,
   "metadata": {
    "ExecuteTime": {
     "end_time": "2022-04-19T17:01:19.974501Z",
     "start_time": "2022-04-19T17:01:16.967868Z"
    }
   },
   "outputs": [],
   "source": [
    "spw_ranges = [[176, 340], [535, 697]] # these can be found in the pspec histories\n",
    "hand_flag_files = glob.glob('/lustre/aoc/projects/hera/Validation/test-4.1.0/LSTBIN/all_epochs/*hand_flags.h5')\n",
    "hand_flag_files = sorted(hand_flag_files, key=lambda f: np.mean(UVFlag(f).time_array))\n",
    "uvf = UVFlag(hand_flag_files)\n",
    "lsts = np.unwrap(uvf.lst_array) * 12 / np.pi\n",
    "while np.max(lsts) > 24:\n",
    "    lsts -= 24\n",
    "freqs = uvf.freq_array / 1e6"
   ]
  },
  {
   "cell_type": "markdown",
   "metadata": {
    "ExecuteTime": {
     "end_time": "2021-10-21T21:44:01.250036Z",
     "start_time": "2021-10-21T21:44:01.244810Z"
    }
   },
   "source": [
    "## Band definitions\n",
    "\n",
    "Show where the bands fall relative to the flagging pattern."
   ]
  },
  {
   "cell_type": "code",
   "execution_count": 12,
   "metadata": {
    "ExecuteTime": {
     "end_time": "2022-04-19T17:01:24.865898Z",
     "start_time": "2022-04-19T17:01:19.975929Z"
    }
   },
   "outputs": [
    {
     "data": {
      "image/png": "[encoded data removed]",
      "text/plain": [
       "<Figure size 576x864 with 1 Axes>"
      ]
     },
     "metadata": {
      "needs_background": "light"
     },
     "output_type": "display_data"
    }
   ],
   "source": [
    "plt.figure(figsize=(8,12))\n",
    "plt.imshow(uvf.flag_array.squeeze(), aspect='auto', interpolation='none', cmap='binary',\n",
    "           extent=[freqs[0], freqs[-1], lsts[-1], lsts[0]])\n",
    "\n",
    "for band, spwr, color in zip([1, 2], spw_ranges, ['C0', 'C1']):\n",
    "    plt.axvspan(freqs[spwr[0]], freqs[spwr[1]], color=color, alpha=.5)\n",
    "    plt.text(np.mean([freqs[spwr[0]], freqs[spwr[1]]]), -5, f'Band {band}', \n",
    "             bbox=dict(facecolor='w', alpha=1), va='center', ha='center')\n",
    "\n",
    "plt.yticks(ticks=np.arange(-6, 20, 2), labels=(np.arange(-6, 20, 2) % 24));\n",
    "plt.xticks(np.linspace(100, 200, 6))\n",
    "plt.xlabel('Frequency [MHz]')\n",
    "plt.ylabel('LST [hours]')\n",
    "plt.tight_layout()\n",
    "plt.savefig(f'{figures_folder}/{prefix}flag_waterfall.pdf', dpi=200)"
   ]
  },
  {
   "cell_type": "markdown",
   "metadata": {},
   "source": [
    "## Flag occupancy and per-band tapers \n",
    "\n",
    "This reproduces Figure 12 in [HERA Collaboration (2021a)](https://arxiv.org/abs/2108.02263)."
   ]
  },
  {
   "cell_type": "code",
   "execution_count": 13,
   "metadata": {
    "ExecuteTime": {
     "end_time": "2022-04-19T17:01:25.282449Z",
     "start_time": "2022-04-19T17:01:24.867564Z"
    }
   },
   "outputs": [
    {
     "data": {
      "image/png": "[encoded data removed]",
      "text/plain": [
       "<Figure size 576x432 with 1 Axes>"
      ]
     },
     "metadata": {
      "needs_background": "light"
     },
     "output_type": "display_data"
    }
   ],
   "source": [
    "plt.figure(figsize=(8,6))\n",
    "unflagged_time_inds = np.arange(uvf.flag_array.shape[0])[~np.all(uvf.flag_array.squeeze(), axis=1)]\n",
    "flag_time_subset = uvf.flag_array[np.min(unflagged_time_inds):(np.max(unflagged_time_inds) + 1), :, 0]\n",
    "\n",
    "for band, spwr, color in zip([1, 2], spw_ranges, ['C0', 'C1']):\n",
    "    bh = scipy.signal.blackmanharris(spwr[1]-spwr[0])\n",
    "    plt.fill_between(freqs[spwr[0]:spwr[1]], bh,  alpha=.5)\n",
    "    plt.text(np.mean([freqs[spwr[0]], freqs[spwr[1]]]), .5, f'Band {band}', \n",
    "             bbox=dict(facecolor='w', alpha=.7), va='center', ha='center')\n",
    "    \n",
    "\n",
    "plt.fill_between(freqs, np.mean(flag_time_subset, axis=0), alpha=.3, color='k', edgecolor='k', linewidth=1)\n",
    "plt.ylabel('Flag Occupancy')\n",
    "plt.xlabel('Frequency [MHz]')\n",
    "plt.xlim([110, 180])\n",
    "plt.ylim([0, 1])\n",
    "plt.tight_layout()\n",
    "plt.savefig(f'{figures_folder}/{prefix}flag_occupancy.pdf', dpi=200)"
   ]
  },
  {
   "cell_type": "markdown",
   "metadata": {},
   "source": [
    "# Load power spectrum container"
   ]
  },
  {
   "cell_type": "code",
   "execution_count": null,
   "metadata": {
    "ExecuteTime": {
     "start_time": "2022-04-19T17:00:23.725Z"
    }
   },
   "outputs": [],
   "source": [
    "# load get pspec container for cross-talk subtracted files\n",
    "psc = hp.container.PSpecContainer(df, keep_open=False)\n",
    "uvps_xtk, lens, angs, Nblps = utils.load_red_uvps(psc, 'stokespol', proj_EW_cut=14., spws=[0, 1], polpairs=['pI'])"
   ]
  },
  {
   "cell_type": "code",
   "execution_count": null,
   "metadata": {
    "ExecuteTime": {
     "start_time": "2022-04-19T17:00:23.726Z"
    }
   },
   "outputs": [],
   "source": [
    "# load get pspec container for files without cross-talk subtraction\n",
    "psc = hp.container.PSpecContainer(no_xtalk_df, keep_open=False)\n",
    "uvps_tk, lens, angs, Nblps = utils.load_red_uvps(psc, 'stokespol', proj_EW_cut=14., spws=[0, 1], polpairs=['pI'])"
   ]
  },
  {
   "cell_type": "code",
   "execution_count": null,
   "metadata": {
    "ExecuteTime": {
     "start_time": "2022-04-19T17:00:23.727Z"
    }
   },
   "outputs": [],
   "source": [
    "# P_SN correction\n",
    "for uvp in uvps_xtk:\n",
    "    hp.utils.apply_P_SN_correction(uvp, P_SN='P_SN', P_N='P_N')"
   ]
  },
  {
   "cell_type": "code",
   "execution_count": null,
   "metadata": {
    "ExecuteTime": {
     "start_time": "2022-04-19T17:00:23.729Z"
    }
   },
   "outputs": [],
   "source": [
    "# copy stats array from xtk to tk for consistency\n",
    "for uvp_xtk, uvp_tk in zip(uvps_xtk, uvps_tk):\n",
    "    # if foreground dependent in uvp_xtk, rename it as P_SN\n",
    "    if \"foreground_dependent_diag\" in uvp_xtk.stats_array:\n",
    "        uvp_xtk.stats_array['P_SN'] = uvp_xtk.stats_array.pop('foreground_dependent_diag')\n",
    "    # ensure its real-valued: foreground_dependent_diag returns complex valued array\n",
    "    for stat in uvp_xtk.stats_array:\n",
    "        for spw in uvp_xtk.spw_array:\n",
    "            uvp_xtk.stats_array[stat][spw] = uvp_xtk.stats_array[stat][spw].real\n",
    "            nans = np.isnan(uvp_xtk.stats_array[stat][spw])\n",
    "            uvp_xtk.stats_array[stat][spw][nans] = np.inf\n",
    "    uvp_tk.stats_array = copy.deepcopy(uvp_xtk.stats_array)"
   ]
  },
  {
   "cell_type": "code",
   "execution_count": null,
   "metadata": {
    "ExecuteTime": {
     "start_time": "2022-04-19T17:00:23.730Z"
    }
   },
   "outputs": [],
   "source": [
    "pd.options.display.float_format = '{:.2f}'.format\n",
    "pd.DataFrame([np.around(lens,1), angs, Nblps], index=['length [m]', 'angle [deg]', 'Nbl pairs'])"
   ]
  },
  {
   "cell_type": "code",
   "execution_count": null,
   "metadata": {
    "ExecuteTime": {
     "start_time": "2022-04-19T17:00:23.732Z"
    }
   },
   "outputs": [],
   "source": [
    "# apply bias correction\n",
    "for uvp_xtk, uvp_tk in zip(uvps_xtk, uvps_tk):\n",
    "    utils.bias_correction(uvp_xtk, abscal_bias, other_bias)\n",
    "    utils.bias_correction(uvp_tk, abscal_bias, other_bias)"
   ]
  },
  {
   "cell_type": "markdown",
   "metadata": {},
   "source": [
    "# Initial Data Quality Checks"
   ]
  },
  {
   "cell_type": "markdown",
   "metadata": {},
   "source": [
    "## Display sample baseline power spectrum"
   ]
  },
  {
   "cell_type": "code",
   "execution_count": null,
   "metadata": {
    "ExecuteTime": {
     "start_time": "2022-04-19T17:00:23.733Z"
    }
   },
   "outputs": [],
   "source": [
    "def find_index_of_key(key, list_of_uvps):\n",
    "    '''This function figures out which UVPspec object in a list has a given key. \n",
    "    Returns None if not any of them.'''\n",
    "    for i, uvp in enumerate(list_of_uvps):\n",
    "        if key in uvp.get_all_keys():\n",
    "            return i\n",
    "    return None    "
   ]
  },
  {
   "cell_type": "code",
   "execution_count": null,
   "metadata": {
    "ExecuteTime": {
     "start_time": "2022-04-19T17:00:23.735Z"
    },
    "scrolled": false
   },
   "outputs": [],
   "source": [
    "# Plot P(k) and SNR waterfalls for both band and a single waterfall\n",
    "blp = ((65, 66), (82, 83))\n",
    "\n",
    "for spw in range(2):\n",
    "    key = (spw, blp, ('pI', 'pI'))\n",
    "    ind = find_index_of_key(key, uvps_xtk)\n",
    "\n",
    "    # construct LSTs, taking into account duplication and wrapping\n",
    "    lst_indexes = np.unique(uvps_xtk[ind].lst_1_array, return_index=True)[1]\n",
    "    lsts_wrapped = np.unwrap([uvps_xtk[ind].lst_avg_array[i] for i in sorted(lst_indexes)]) * 12 / np.pi\n",
    "    while np.max(lsts_wrapped) > 24:\n",
    "        lsts_wrapped -= 24\n",
    "\n",
    "    dlys = np.unique(uvps_xtk[ind].dly_array)\n",
    "    extent = [dlys[0]*1e9, dlys[-1]*1e9, lsts_wrapped[-1], lsts_wrapped[0]]\n",
    "    \n",
    "    for plt_type in ['pk', 'snr']:\n",
    "        fig, axes = plt.subplots(1,2, figsize=(16,6))\n",
    "        for i, ax in enumerate(axes):\n",
    "            uvps = [uvps_tk, uvps_xtk][i]\n",
    "            if plt_type == 'pk':\n",
    "                im = ax.imshow(np.where(~np.isfinite(uvps[ind].get_stats('P_N', key)), np.nan, np.abs(uvps[ind].get_data(key))), \n",
    "                               norm=matplotlib.colors.LogNorm(vmin=1e6, vmax=1e14), \n",
    "                               aspect='auto', interpolation='none', cmap='inferno', extent=extent)\n",
    "                cbar = plt.colorbar(im, ax=ax, label=r'$|P(k)|\\ [{\\rm mK}^2\\ h^{-3}\\ {\\rm Mpc}^3]$', extend='both')\n",
    "                for i, lc in enumerate(lstcuts):\n",
    "                    r = plt.Rectangle((extent[0]*.99, lc[0]), (extent[1] - extent[0])*.99, lc[1]-lc[0]-.1, fc='None', ec=lst_colors[i], lw=2)\n",
    "                    ax.add_patch(r)\n",
    "                    ax.text(extent[0]*.95, np.mean(lc), f\"Field {'ABCDEFGHIJ'[i]}\", fontsize=16, c='w', ha='left', va='center')\n",
    "                \n",
    "            elif plt_type == 'snr':\n",
    "                im = ax.imshow(np.real(uvps[ind].get_data(key)) / uvps[ind].get_stats('P_N', key),\n",
    "                               aspect='auto', interpolation='none', extent=extent, cmap='bwr', vmin=-5, vmax=5)\n",
    "                cbar = plt.colorbar(im, ax=ax, label=r'$\\mbox{Re}(P(k) / P_N(k))\\ [\\mbox{unitless}]$', extend='both')                \n",
    "                \n",
    "        for i, ax in enumerate(axes):\n",
    "            ax.set_xlabel('Delay [ns]')\n",
    "            ax.set_ylabel('LST [hours]')\n",
    "            ax.set_yticks(np.arange(-6, 18, 2))\n",
    "            ax.set_yticklabels(np.arange(-6, 18, 2) % 24)\n",
    "            title = f'Baseline {blp[0]} ' + r'$\\times$' + f' {blp[1]}: Band {spw+1}'\n",
    "            ax.set_title(title + '\\n' + ['Without Cross-Talk Subtraction', 'With Cross-Talk Subtraction'][i])\n",
    "\n",
    "        plt.tight_layout()"
   ]
  },
  {
   "cell_type": "markdown",
   "metadata": {},
   "source": [
    "## Check noise and the number of samples"
   ]
  },
  {
   "cell_type": "code",
   "execution_count": null,
   "metadata": {
    "ExecuteTime": {
     "start_time": "2022-04-19T17:00:23.736Z"
    }
   },
   "outputs": [],
   "source": [
    "# Plot P(k) and SNR waterfalls for both band and a single waterfall\n",
    "blp = ((12, 13), (25, 26))\n",
    "\n",
    "for spw in range(2):\n",
    "    key = (spw, blp, ('pI', 'pI'))\n",
    "    ind = find_index_of_key(key, uvps_xtk)\n",
    "\n",
    "    fig, axes = plt.subplots(1, 2, figsize=(16,6))\n",
    "    for i, ax in enumerate(axes):\n",
    "        if i == 0:\n",
    "            ax.semilogy(lsts_wrapped, np.mean(uvps_xtk[ind].get_stats('P_N', key), axis=1))\n",
    "            ax.set_ylabel(r'$P_N(k)\\ [{\\rm mK}^2\\ h^{-3}\\ {\\rm Mpc}^3]$')\n",
    "        else:\n",
    "            ax.semilogy(lsts_wrapped, uvps_xtk[ind].get_integrations(key))#np.mean(uvps[ind].get_stats('P_N', key), axis=1))\n",
    "            ax.set_ylabel(r'$N_{\\mbox{samples}}$')\n",
    "            \n",
    "        ax.set_xlabel('LST [hours]')\n",
    "        ax.set_xticks(np.arange(-6, 20, 2))\n",
    "        ax.set_xticklabels(np.arange(-6, 20, 2) % 24)\n",
    "        ax.grid()\n",
    "    \n",
    "    plt.suptitle(f'Baseline {blp[0]} ' + r'$\\times$' + f' {blp[1]}: Band {spw+1}')\n",
    "\n",
    "    plt.tight_layout()"
   ]
  },
  {
   "cell_type": "markdown",
   "metadata": {},
   "source": [
    "## Look for failures of x-talk subtraction"
   ]
  },
  {
   "cell_type": "code",
   "execution_count": null,
   "metadata": {
    "ExecuteTime": {
     "start_time": "2022-04-19T17:00:23.738Z"
    },
    "scrolled": false
   },
   "outputs": [],
   "source": [
    "# look for baseline-paris and integrations where cross-talk subtraction has sigificantly added power. Ideally, we won't find any.\n",
    "fig_made = False\n",
    "\n",
    "with warnings.catch_warnings():\n",
    "    warnings.filterwarnings(\"ignore\")\n",
    "    for uvp_tk, uvp_xtk in zip(uvps_tk, uvps_xtk):    \n",
    "        for key in uvp_tk.get_all_keys():\n",
    "            med_abs_before = np.nanmedian(np.abs(np.where(np.isfinite(uvp_tk.get_stats('P_N', key)), uvp_tk.get_data(key), np.nan)), axis=1)\n",
    "            med_abs_after = np.nanmedian(np.abs(np.where(np.isfinite(uvp_xtk.get_stats('P_N', key)), uvp_xtk.get_data(key), np.nan)), axis=1)\n",
    "            if np.any(med_abs_after / med_abs_before > 2):\n",
    "                if not fig_made:\n",
    "                    fig_made = True\n",
    "                    plt.figure()\n",
    "                    plt.plot(lsts_wrapped, np.ones_like(lsts_wrapped), 'k--')\n",
    "                plt.plot(lsts_wrapped, med_abs_after / med_abs_before,'.-')\n",
    "    if not fig_made: \n",
    "        print('No baseline pairs found with excess power in cross-talk subtracted power spectra.')"
   ]
  },
  {
   "cell_type": "markdown",
   "metadata": {},
   "source": [
    "# Analysis of Residual Cross-Talk\n",
    "\n",
    "The purpose of this section is to identify baselines with substantial residual cross-talk and flag them before further averaging."
   ]
  },
  {
   "cell_type": "markdown",
   "metadata": {},
   "source": [
    "## Compute cross-talk SNR matrices"
   ]
  },
  {
   "cell_type": "code",
   "execution_count": null,
   "metadata": {
    "ExecuteTime": {
     "start_time": "2022-04-19T17:00:23.739Z"
    }
   },
   "outputs": [],
   "source": [
    "# store SNRs as a function of band, delay (pos/neg/both), and whether or not cross-talk subtraction as been performed\n",
    "xtalk_SNRs = {pre + func: {0:{}, 1:{}} for func in ['abs', 'pos', 'neg'] for pre in ['no_xtalk_sub_', '']}\n",
    "xtalk_counts = {pre + func: {0:{}, 1:{}} for func in ['abs', 'pos', 'neg'] for pre in ['no_xtalk_sub_', '']}\n",
    "high_dly_SNRs = {pre + func: {0:{}, 1:{}} for func in ['abs', 'pos', 'neg'] for pre in ['no_xtalk_sub_', '']}\n",
    "high_dly_counts = {pre + func: {0:{}, 1:{}} for func in ['abs', 'pos', 'neg'] for pre in ['no_xtalk_sub_', '']}\n",
    "\n",
    "key_to_blvecs = {}\n",
    "\n",
    "# perform this calculation both without and with cross-talk subtraction\n",
    "for x, uvps in enumerate([uvps_tk, uvps_xtk]):\n",
    "    # loop over all baseline groups\n",
    "    for uvp in uvps:\n",
    "        blvec = np.mean(uvp.get_blpair_blvecs(), axis=0)\n",
    "        \n",
    "        # figure out which LSTs to use\n",
    "        lst_indexes = np.unique(uvp.lst_1_array, return_index=True)[1]\n",
    "        lsts_wrapped = np.unwrap([uvp.lst_avg_array[i] for i in sorted(lst_indexes)]) * 12 / np.pi\n",
    "        while np.max(lsts_wrapped) > 24:\n",
    "            lsts_wrapped -= 24\n",
    "        to_use = np.zeros_like(lsts_wrapped, dtype=bool)\n",
    "        for field in SNR_fields_to_use:\n",
    "            to_use[np.logical_and(lsts_wrapped < lstcuts[field][1], lsts_wrapped >  lstcuts[field][0])] = True\n",
    "\n",
    "        # loop over baseline pairs\n",
    "        for blp in uvp.get_blpairs():\n",
    "            # loop over spectral windows\n",
    "            for spw in uvp.spw_array:\n",
    "                key=(spw, blp, ('pI', 'pI'))\n",
    "                key_to_blvecs[key] = blvec\n",
    "                dlys = uvp.get_dlys(spw)\n",
    "\n",
    "                # compute SNRs at the relevant LSTs\n",
    "                S = np.real(uvp.get_data(key))\n",
    "                N = np.abs(uvp.get_stats('P_N', key))\n",
    "                SNR = np.where(np.isfinite(S) & np.isfinite(N), S / N, np.nan)\n",
    "                snr_here = SNR[to_use]\n",
    "                \n",
    "                # loop over both positive and negative delays, then just positive delays, then just negative delays\n",
    "                for func, fname in zip([np.abs, lambda x: x, lambda x: -x], ['abs', 'pos', 'neg']):\n",
    "                    if fname == 'neg':\n",
    "                        xtalk_dlys = (dlys < -xtalk_dly_min/1e9) & (dlys > -xtalk_dly_max/1e9)\n",
    "                        high_dlys = (dlys < -(xtalk_dly_min + high_dly_diff)/1e9) & (dlys > -(xtalk_dly_max + high_dly_diff)/1e9)\n",
    "                    else:\n",
    "                        xtalk_dlys = (func(dlys) > xtalk_dly_min/1e9) & (func(dlys) < xtalk_dly_max/1e9)\n",
    "                        high_dlys = (func(dlys) > (xtalk_dly_min + high_dly_diff)/1e9) & (func(dlys) < (xtalk_dly_max + high_dly_diff)/1e9)                        \n",
    "                    \n",
    "                    if x==0:\n",
    "                        fname = 'no_xtalk_sub_' + fname\n",
    "                    # compute the average SNRs at the appropriate delays\n",
    "                    xtalk_SNRs[fname][spw][key] = np.nanmean(np.abs(snr_here[:, xtalk_dlys]))\n",
    "                    xtalk_counts[fname][spw][key] = np.sum(np.isfinite(snr_here[:, xtalk_dlys]))\n",
    "                    high_dly_SNRs[fname][spw][key] = np.nanmean(np.abs(snr_here[:, high_dlys]))\n",
    "                    high_dly_counts[fname][spw][key] = np.sum(np.isfinite(snr_here[:, high_dlys]))                    "
   ]
  },
  {
   "cell_type": "code",
   "execution_count": null,
   "metadata": {
    "ExecuteTime": {
     "start_time": "2022-04-19T17:00:23.741Z"
    }
   },
   "outputs": [],
   "source": [
    "# organize dictionaries for scatter plots\n",
    "auto_xtalk_snrs = {}\n",
    "cross_xtalk_snrs = {}\n",
    "auto_high_dly_snrs = {}\n",
    "auto_blp1_xtalk_snrs = {}\n",
    "auto_blp2_xtalk_snrs = {}\n",
    "cross_bl_lens = {}\n",
    "cross_blx = {}\n",
    "\n",
    "for fname in xtalk_SNRs:\n",
    "    auto_xtalk_snrs[fname] = {}\n",
    "    cross_xtalk_snrs[fname] = {}\n",
    "    auto_high_dly_snrs[fname] = {}    \n",
    "    auto_blp1_xtalk_snrs[fname] = {}\n",
    "    auto_blp2_xtalk_snrs[fname] = {}    \n",
    "    cross_bl_lens[fname] = {}\n",
    "    cross_blx[fname] = {}\n",
    "    \n",
    "    for spw in xtalk_SNRs[fname]:\n",
    "        auto_xtalk_snrs[fname][spw] = np.array([])\n",
    "        cross_xtalk_snrs[fname][spw] = np.array([])\n",
    "        auto_high_dly_snrs[fname][spw] = np.array([])    \n",
    "        auto_blp1_xtalk_snrs[fname][spw] = np.array([])\n",
    "        auto_blp2_xtalk_snrs[fname][spw] = np.array([])\n",
    "        cross_bl_lens[fname][spw] = np.array([])\n",
    "        cross_blx[fname][spw] = np.array([])\n",
    "        \n",
    "        for k in sorted(list(xtalk_SNRs[fname][spw].keys())):\n",
    "            blp1, blp2 = k[1]\n",
    "            if blp1 == blp2:\n",
    "                auto_xtalk_snrs[fname][spw] = np.append(auto_xtalk_snrs[fname][spw], xtalk_SNRs[fname][spw][k])\n",
    "                auto_high_dly_snrs[fname][spw] = np.append(auto_high_dly_snrs[fname][spw], high_dly_SNRs[fname][spw][k])\n",
    "            else:\n",
    "                cross_xtalk_snrs[fname][spw] = np.append(cross_xtalk_snrs[fname][spw], xtalk_SNRs[fname][spw][k])\n",
    "                auto_blp1_xtalk_snrs[fname][spw] = np.append(auto_blp1_xtalk_snrs[fname][spw], xtalk_SNRs[fname][spw][k[0], (blp1, blp1), k[2]])\n",
    "                auto_blp2_xtalk_snrs[fname][spw] = np.append(auto_blp2_xtalk_snrs[fname][spw], xtalk_SNRs[fname][spw][k[0], (blp2, blp2), k[2]])\n",
    "                cross_bl_lens[fname][spw] = np.append(cross_bl_lens[fname][spw], np.linalg.norm(key_to_blvecs[k]))\n",
    "                cross_blx[fname][spw] = np.append(cross_blx[fname][spw], key_to_blvecs[k][0])"
   ]
  },
  {
   "cell_type": "markdown",
   "metadata": {},
   "source": [
    "### Examine cross-talk removal efficacy, comparing cross-talk power before and after subtraction"
   ]
  },
  {
   "cell_type": "code",
   "execution_count": null,
   "metadata": {
    "ExecuteTime": {
     "start_time": "2022-04-19T17:00:23.742Z"
    }
   },
   "outputs": [],
   "source": [
    "fig, axes = plt.subplots(1,2, figsize=(16,6))\n",
    "for i, ax in enumerate(axes):\n",
    "    ax.scatter(cross_xtalk_snrs['no_xtalk_sub_' + 'abs'][i], cross_xtalk_snrs['abs'][i], s=2, alpha=.5, label='Cross-Baseline Pairs', color='C2')\n",
    "    ax.scatter(auto_xtalk_snrs['no_xtalk_sub_' + 'abs'][i], auto_xtalk_snrs['abs'][i], s=2, alpha=.5, label='Auto-Baseline Pairs', color='C6')\n",
    "\n",
    "    ax.set_yscale('log')\n",
    "    ax.set_xscale('log')\n",
    "    ax.set_ylabel('After Crosstalk Subtraction:\\nAverage $|$SNR$|$ at ' + f'{xtalk_dly_min}' + '$<|\\\\tau| <$' + f'{xtalk_dly_max} ns')\n",
    "    ax.set_xlabel('Before Crosstalk Subtraction:\\nAverage $|$SNR$|$ at ' + f'{xtalk_dly_min}' + '$<|\\\\tau| <$' + f'{xtalk_dly_max} ns')\n",
    "    ax.set_title(f'Band {i+1}')\n",
    "#     ax.axhline((2/np.pi)**.5, linestyle='--', color='k')\n",
    "#     ax.axvline((2/np.pi)**.5, linestyle='--', color='k')\n",
    "    ax.set_xlim([.3, 3e3])\n",
    "    ax.set_ylim([.3, 10])\n",
    "    ax.axline((1,1), (2,2), linestyle='--', color='k')    \n",
    "    \n",
    "    ax.legend()\n",
    "plt.tight_layout()\n",
    "plt.savefig(f'{figures_folder}/{prefix}crosstalk_subtraction_efficiency_scatter.png', dpi=200)"
   ]
  },
  {
   "cell_type": "markdown",
   "metadata": {},
   "source": [
    "### Examine residual cross-talk matrices"
   ]
  },
  {
   "cell_type": "code",
   "execution_count": null,
   "metadata": {
    "ExecuteTime": {
     "start_time": "2022-04-19T17:00:23.744Z"
    },
    "scrolled": false
   },
   "outputs": [],
   "source": [
    "# loop over a number of representative baseline groups\n",
    "for group_bl in [(11, 12), (1, 14), (1, 11), (1, 26), (11, 13), (11, 36)]:\n",
    "    \n",
    "    fig, axes = plt.subplots(1,2, figsize=(16,8))\n",
    "    for ax, spw in zip(axes, [0, 1]):\n",
    "        # get info about the group\n",
    "        group_blp_key = (spw, (group_bl, group_bl), ('pI', 'pI'))\n",
    "        ind = find_index_of_key(group_blp_key, uvps_xtk)\n",
    "        blvec = np.mean(uvps_xtk[ind].get_blpair_blvecs(), axis=0)\n",
    "        \n",
    "        # construct matrix from dictionaries\n",
    "        bls = sorted(set([bl for blp in uvps_xtk[ind].get_blpairs() for bl in blp]))\n",
    "        bl_to_ind = {bl: n for n, bl in enumerate(bls)}\n",
    "        xtalk_matrix = np.zeros((len(bls), len(bls)))\n",
    "        for blp in uvps_xtk[ind].get_blpairs():\n",
    "            key = (spw, blp, ('pI', 'pI'))\n",
    "            bl1, bl2 = key[1]\n",
    "            # only plot positive delays, this can be modified to 'abs' or 'neg' but then the colorbar label should be also modified\n",
    "            xtalk_matrix[bl_to_ind[bl1], bl_to_ind[bl2]] = xtalk_SNRs['pos'][spw][key] \n",
    "        \n",
    "        \n",
    "        ax = axes.flatten()[spw]\n",
    "        im = ax.imshow(xtalk_matrix, cmap='inferno', vmin=.63, vmax=.63*5)\n",
    "\n",
    "        ax.set_xticks(np.arange(len(bls)))\n",
    "        ax.set_xticklabels(bls, fontdict={'rotation': 'vertical', 'fontsize': 9})\n",
    "        ax.set_yticks(np.arange(len(bls)))\n",
    "        ax.set_yticklabels(bls, fontdict={'rotation': 'horizontal', 'fontsize': 9})\n",
    "        \n",
    "        # turn baseline labels that will be cut red\n",
    "        for i, diag_entry in enumerate(np.diag(xtalk_matrix)):\n",
    "            if diag_entry > auto_xtalk_snr_cut:\n",
    "                ax.get_xticklabels()[i].set_color(\"red\")\n",
    "                ax.get_yticklabels()[i].set_color(\"red\")                \n",
    "        \n",
    "        ax.set_title(f'Baseline Group Vector: {np.round(blvec,1)}\\n Band {spw+1}; Fields {\", \".join([\"ABCDEFGHIJ\"[f] for f in SNR_fields_to_use])}')\n",
    "        plt.colorbar(im, ax=ax, extend='both',\n",
    "                     label='Average $|$SNR$|$ at ' + f'{xtalk_dly_min}' + '$<\\\\tau <$' + f'{xtalk_dly_max} ns')\n",
    "        ax.set_xlabel('Baseline 1')\n",
    "        ax.set_ylabel('Baseline 2')        \n",
    "\n",
    "    plt.tight_layout()\n",
    "    \n",
    "    # only bother to save the first baseline group\n",
    "    if group_bl == (11, 12):\n",
    "        plt.savefig(f'{figures_folder}/{prefix}xtalk_snr_matrix.pdf', dpi=200)"
   ]
  },
  {
   "cell_type": "markdown",
   "metadata": {},
   "source": [
    "## Generate cuts based on residual cross-talk"
   ]
  },
  {
   "cell_type": "code",
   "execution_count": null,
   "metadata": {
    "ExecuteTime": {
     "start_time": "2022-04-19T17:00:23.745Z"
    }
   },
   "outputs": [],
   "source": [
    "uvps_xtk[0].spw_array"
   ]
  },
  {
   "cell_type": "code",
   "execution_count": null,
   "metadata": {
    "ExecuteTime": {
     "start_time": "2022-04-19T17:00:23.746Z"
    }
   },
   "outputs": [],
   "source": [
    "all_keys = sorted(set([key for uvp in uvps_xtk for key in uvp.get_all_keys()]))\n",
    "# these are used for utils.red_avg\n",
    "flag_neg_delays = {k: False for k in all_keys}\n",
    "flag_pos_delays = {k: False for k in all_keys}\n",
    "\n",
    "flagged_bls = {spw: {dly: set([]) for dly in ['pos', 'neg']} for spw in uvps_xtk[0].spw_array}\n",
    "\n",
    "# figure out which baselines and baselines pairs are flagged at pos and/or neg delay\n",
    "for key in all_keys:\n",
    "    spw = key[0]\n",
    "    bl1, bl2 = key[1][0], key[1][1]\n",
    "    if xtalk_SNRs['pos'][spw][spw, (bl1, bl1), key[2]] > auto_xtalk_snr_cut:\n",
    "        flag_pos_delays[key] = True\n",
    "        flagged_bls[spw]['pos'].add(bl1)\n",
    "    if xtalk_SNRs['pos'][spw][spw, (bl2, bl2), key[2]] > auto_xtalk_snr_cut:\n",
    "        flag_pos_delays[key] = True\n",
    "        flagged_bls[spw]['pos'].add(bl2)    \n",
    "    if xtalk_SNRs['neg'][spw][spw, (bl1, bl1), key[2]] > auto_xtalk_snr_cut:\n",
    "        flag_neg_delays[key] = True\n",
    "        flagged_bls[spw]['neg'].add(bl1)\n",
    "    if xtalk_SNRs['neg'][spw][spw, (bl2, bl2), key[2]] > auto_xtalk_snr_cut:\n",
    "        flag_neg_delays[key] = True\n",
    "        flagged_bls[spw]['neg'].add(bl2)                \n",
    "        \n",
    "flag_all_delays = {k: flag_pos_delays[k] and flag_neg_delays[k] for k in all_keys}    \n",
    "\n",
    "# write out text files with flagged baselines:\n",
    "for spw in uvps_xtk[0].spw_array:\n",
    "    for dly in ['pos', 'neg']:\n",
    "        with open(f'{results_folder}/flagged_bls_band_{spw+1}_{dly}_dlys.txt', 'w') as outfile:\n",
    "            for bl in flagged_bls[spw][dly]:\n",
    "                outfile.write(f'{bl}\\n')\n",
    "\n",
    "# for scatter plots\n",
    "to_flag_xtalk = {fname: {spw: (auto_blp1_xtalk_snrs[fname][spw] >= auto_xtalk_snr_cut) | (auto_blp2_xtalk_snrs[fname][spw] >= auto_xtalk_snr_cut) \n",
    "                         for spw in xtalk_SNRs[fname]} for fname in xtalk_SNRs}        "
   ]
  },
  {
   "cell_type": "markdown",
   "metadata": {},
   "source": [
    "### Crosstalk auto-baseline SNR distribution"
   ]
  },
  {
   "cell_type": "code",
   "execution_count": null,
   "metadata": {
    "ExecuteTime": {
     "start_time": "2022-04-19T17:00:23.748Z"
    },
    "scrolled": false
   },
   "outputs": [],
   "source": [
    "fig, axes = plt.subplots(2,2, figsize=(16,12))\n",
    "\n",
    "for axis, fname in zip(axes, ['neg', 'pos']):\n",
    "\n",
    "    for spw, ax in enumerate(axis):\n",
    "        flag_delays = [flag_neg_delays, flag_pos_delays][fname == 'pos']\n",
    "        auto_flags_here = [flag_delays[k] for k in flag_delays if (k[0] == spw) and (k[1][0] == k[1][1])]\n",
    "        cross_flags_here = [flag_delays[k] for k in flag_delays if (k[0] == spw) and (k[1][0] != k[1][1])]\n",
    "            \n",
    "        label = f'Band {spw+1} Flags:\\n'\n",
    "\n",
    "        \n",
    "        if fname == 'pos':\n",
    "            label1 = f'Residual Cross-Talk $|$SNR$|$\\nat {xtalk_dly_min} ' + '$<\\\\tau <$' + f' {xtalk_dly_max} ns'\n",
    "            label2 = f'Noise-Domianted $|$SNR$|$\\nat {xtalk_dly_min + high_dly_diff} ' + '$<\\\\tau <$' + f' {xtalk_dly_max + high_dly_diff} ns'\n",
    "        else:\n",
    "            label1 = (f'Residual Cross-Talk $|$SNR$|$ at\\n-{xtalk_dly_min} ' + '$>\\\\tau >$' + f' -{xtalk_dly_max} ns') \n",
    "            label2 = (f'Noise-Domianted $|$SNR$|$ at\\n-{xtalk_dly_min + high_dly_diff} ' + '$>\\\\tau >$' + f' -{xtalk_dly_max + high_dly_diff} ns') \n",
    "        \n",
    "        \n",
    "        ax.hist(auto_xtalk_snrs[fname][spw], bins=np.arange(.4,10,.05), density=True, alpha=.7, color=['C0', 'C1'][spw], label=label1)        \n",
    "        ax.hist(auto_high_dly_snrs[fname][spw], bins=np.arange(.4,10,.05), density=True, histtype='step', lw=2, color='k', label=label2)\n",
    "\n",
    "        ax.set_ylabel('Density of Auto-Baseline Pairs')\n",
    "        ax.set_xlabel(f'Average $|$SNR$|$')\n",
    "\n",
    "        ax.set_xscale('log')\n",
    "        ax.set_yscale('log')\n",
    "        ax.set_xlim([.2, 20])\n",
    "\n",
    "        ax.set_ylim([1e-2, 10])\n",
    "        v2 = ax.axvline(auto_xtalk_snr_cut, linestyle='--', color='k', label='Cut at $|$SNR$|  >$ ' + f'{auto_xtalk_snr_cut:.1f}')\n",
    "\n",
    "        title = f'Band {spw + 1}, {[\"Negative\", \"Positive\"][fname == \"pos\"]} Delays:\\n'\n",
    "        title += f'{100 * np.sum(auto_flags_here) / len(auto_flags_here):.1f}\\% of auto-baseline pairs flagged\\n'\n",
    "        title += f'(corresponding to {100 * np.sum(cross_flags_here) / len(cross_flags_here):.1f}\\% of \\ncross-baseline pairs flagged)'\n",
    "        \n",
    "        ax.legend()\n",
    "        handles, labels = ax.get_legend_handles_labels()\n",
    "        order = [1, 2, 0]\n",
    "        ax.legend([handles[idx] for idx in order],[labels[idx] for idx in order], title=title, fontsize=16)\n",
    "\n",
    "plt.tight_layout()\n",
    "plt.savefig(f'{figures_folder}/{prefix}auto_xtalk_SNR_hist.pdf', dpi=200)"
   ]
  },
  {
   "cell_type": "markdown",
   "metadata": {},
   "source": [
    "### Show relationship between auto-baseline pair residual cross-talk and cross-baseline pair residual cross-talk"
   ]
  },
  {
   "cell_type": "code",
   "execution_count": null,
   "metadata": {
    "ExecuteTime": {
     "start_time": "2022-04-19T17:00:23.749Z"
    }
   },
   "outputs": [],
   "source": [
    "for fname in ['neg', 'pos']:\n",
    "    fig, axes = plt.subplots(1,2, figsize=(16,6))\n",
    "    for i, ax in enumerate(axes):\n",
    "        to_flag = to_flag_xtalk[fname][i]\n",
    "        ax.scatter(np.sqrt(auto_blp1_xtalk_snrs[fname][i][~to_flag] * auto_blp2_xtalk_snrs[fname][i][~to_flag]), cross_xtalk_snrs[fname][i][~to_flag], \n",
    "                   s=2, color='C0', alpha=.5, label='Unflagged Baseline Pair')\n",
    "        ax.scatter(np.sqrt(auto_blp1_xtalk_snrs[fname][i][to_flag] * auto_blp2_xtalk_snrs[fname][i][to_flag]), cross_xtalk_snrs[fname][i][to_flag], \n",
    "                   s=2, color='C3', alpha=.5, label='Either Auto-Baseline Pair Flagged')\n",
    "        ax.set_yscale('log')\n",
    "        ax.set_xscale('log')\n",
    "        \n",
    "        if fname == 'pos':\n",
    "            tau_str = f'{xtalk_dly_min} ' + '$<\\\\tau <$' + f' {xtalk_dly_max} ns'\n",
    "        else:\n",
    "            tau_str = f'-{xtalk_dly_min} ' + '$>\\\\tau >$' + f' -{xtalk_dly_max} ns'\n",
    "        ax.set_ylabel('Average $|$SNR$|$ at ' + tau_str)\n",
    "        ax.set_xlabel('Geometric Mean of Corresponding\\nAuto-Baseline $|$SNR$|$s at '+ tau_str)\n",
    "        \n",
    "        ax.set_title(f'Band {i+1}: ' + ['Negative', 'Positive'][fname == 'pos'] + ' Delays')\n",
    "        ax.axline((1,1), (2,2), linestyle='--', color='k')\n",
    "        ax.legend()\n",
    "    plt.tight_layout()"
   ]
  },
  {
   "cell_type": "markdown",
   "metadata": {},
   "source": [
    "### Show what fraction of each baseline group was flagged as a result of cross-talk SNR flagging"
   ]
  },
  {
   "cell_type": "code",
   "execution_count": null,
   "metadata": {
    "ExecuteTime": {
     "start_time": "2022-04-19T17:00:23.751Z"
    }
   },
   "outputs": [],
   "source": [
    "fig, axes = plt.subplots(2,2, figsize=(16,12))\n",
    "\n",
    "for spw in [0, 1]:\n",
    "    for i, (fname, label, flag_delays) in enumerate(zip(['neg', 'pos'], ['Negative', 'Positve'], [flag_neg_delays, flag_pos_delays])):\n",
    "        ax = axes[i, spw]\n",
    "        bl_vecs = [np.mean(uvp.get_blpair_blvecs(), axis=0) for uvp in uvps_xtk]\n",
    "        n_flags = [np.sum([flag_delays[k] for k in uvp.get_all_keys() if (k[0]==spw) and (k[1][0] != k[1][1]) and np.isfinite(xtalk_SNRs[fname][spw][k])]) for uvp in uvps_xtk]\n",
    "        n_bls = [np.sum([np.isfinite(xtalk_SNRs[fname][spw][k]) for k in uvp.get_all_keys() if (k[0]==spw) and (k[1][0] != k[1][1])]) for uvp in uvps_xtk]\n",
    "        sca = ax.scatter([blvec[0] for blvec in bl_vecs], \n",
    "                         [blvec[1] for blvec in bl_vecs],\n",
    "                         c=np.array(n_flags) / np.array(n_bls),\n",
    "                         cmap='inferno', s=500, edgecolors='k', vmax=.5, vmin=0)\n",
    "        plt.colorbar(sca, ax=ax, label='Cross-Baseline Pair Flag Fraction', extend='max')\n",
    "        ax.set_xlabel('EW-Baseline Component (m)')\n",
    "        ax.set_ylabel('NS-Baseline Component (m)')\n",
    "        if fname == 'pos':\n",
    "            ax.set_title(f'Band {spw+1}: Flags on {label} Delays\\nDue to Excess $|$SNR$|$ at {xtalk_dly_min} ns ' + '$<\\\\tau <$' + f'{xtalk_dly_max} ns')        \n",
    "        else:\n",
    "            ax.set_title(f'Band {spw+1}: Flags on {label} Delays\\nDue to Excess $|$SNR$|$ at -{xtalk_dly_min} ns ' + '$>\\\\tau >$' + f' -{xtalk_dly_max} ns')        \n",
    "plt.tight_layout()\n",
    "plt.savefig(f'{figures_folder}/{prefix}delay_flagging_fraction.png', dpi=200)"
   ]
  },
  {
   "cell_type": "markdown",
   "metadata": {},
   "source": [
    "# Incoherent redundant (cylindrically) average"
   ]
  },
  {
   "cell_type": "code",
   "execution_count": null,
   "metadata": {
    "ExecuteTime": {
     "start_time": "2022-04-19T17:00:23.752Z"
    }
   },
   "outputs": [],
   "source": [
    "# weight redundant average by P_N, but propagate P_SN errorbar\n",
    "history = \"Bias Corrected:\\ndata + error bias correction per spw {}\\nother data-only bias correction per spw{}\\n\" \\\n",
    "          \"Incoherent redundantly averaged, excluding auto-baseline-pairs, weighted by P_N\" \\\n",
    "          \"\".format(abscal_bias, other_bias)\n",
    "uvp_xtk_ravg = utils.red_avg(uvps_xtk, exclude_autos=True, error_weights='P_N', error_field=['P_SN'], add_to_history=history,\n",
    "                             flag_all_delays=flag_all_delays, flag_pos_delays=flag_pos_delays, flag_neg_delays=flag_neg_delays)\n",
    "uvp_tk_ravg = utils.red_avg(uvps_tk, exclude_autos=True, error_weights='P_N', error_field=['P_SN'], add_to_history=history,\n",
    "                            flag_all_delays=flag_all_delays, flag_pos_delays=flag_pos_delays, flag_neg_delays=flag_neg_delays)"
   ]
  },
  {
   "cell_type": "markdown",
   "metadata": {},
   "source": [
    "## Show $P(\\tau = 0)$ and $P_N$ to help define fields"
   ]
  },
  {
   "cell_type": "code",
   "execution_count": null,
   "metadata": {
    "ExecuteTime": {
     "start_time": "2022-04-19T17:00:23.754Z"
    },
    "scrolled": false
   },
   "outputs": [],
   "source": [
    "# inverse variance weight and average power spectra and noise power spectra\n",
    "bl_avg_pspec, bl_avg_noise = {}, {}\n",
    "for spw in [0,1]:\n",
    "    bl_avg_pspec[spw] = np.ma.average([uvp_xtk_ravg.get_data(key) for key in uvp_xtk_ravg.get_all_keys() if key[0] == spw], axis=0,\n",
    "                                       weights=[np.where(np.isfinite(uvp_xtk_ravg.get_stats('P_N', key)), \n",
    "                                                uvp_xtk_ravg.get_stats('P_N', key)**-2, 0) \n",
    "                                       for key in uvp_xtk_ravg.get_all_keys() if key[0] == spw])\n",
    "    bl_avg_noise[spw] = np.ma.average([np.where(np.isfinite(uvp_xtk_ravg.get_stats('P_N', key)), \n",
    "                                                uvp_xtk_ravg.get_stats('P_N', key), 0) \n",
    "                                       for key in uvp_xtk_ravg.get_all_keys() if key[0] == spw], \n",
    "                                       axis=0,\n",
    "                                       weights=[np.where(np.isfinite(uvp_xtk_ravg.get_stats('P_N', key)), \n",
    "                                                uvp_xtk_ravg.get_stats('P_N', key)**-2, 0) \n",
    "                                       for key in uvp_xtk_ravg.get_all_keys() if key[0] == spw])    \n",
    "\n",
    "\n",
    "lst_indexes = np.unique(uvp_xtk_ravg.lst_1_array, return_index=True)[1]\n",
    "lsts_wrapped = np.unwrap([uvp_xtk_ravg.lst_avg_array[i] for i in sorted(lst_indexes)]) * 12 / np.pi\n",
    "while np.max(lsts_wrapped) > 24:\n",
    "    lsts_wrapped -= 24\n",
    "dlys = np.unique(uvp_xtk_ravg.dly_array)    \n",
    "    \n",
    "fig, axes = plt.subplots(2, 1, figsize=(16,8), sharex=True, gridspec_kw={'hspace': 0})\n",
    "\n",
    "for spw in [0, 1]:\n",
    "    axes[0].semilogy(lsts_wrapped, bl_avg_pspec[spw][:, bl_avg_pspec[spw].shape[1]//2], '.-', label=f'Band {spw+1}')\n",
    "axes[0].set_ylabel('Baseline-Averaged\\n'+r'$P(\\tau = 0)\\ [{\\rm mK}^2\\ h^{-3}\\ {\\rm Mpc}^3]$')\n",
    "\n",
    "for field, (lc, c) in enumerate(zip(lstcuts, lst_colors)):\n",
    "    axes[0].axvspan(lc[0], lc[1], color=c, alpha=.4)\n",
    "    axes[0].text(np.mean(lc), 2e18, f'Field {\"ABCDEFGHIJ\"[field]}', ha='center', va='center', bbox=dict(facecolor='w', alpha=0.8))\n",
    "\n",
    "for spw in [0, 1]:\n",
    "    axes[1].semilogy(lsts_wrapped, bl_avg_noise[spw][:, bl_avg_noise[spw].shape[1]//2], '.-', label=f'Band {spw+1}')\n",
    "axes[1].set_ylabel('Baseline-Averaged\\n'+r'$P_N\\ [{\\rm mK}^2\\ h^{-3}\\ {\\rm Mpc}^3]$')\n",
    "\n",
    "for lc, c in zip(lstcuts, lst_colors):\n",
    "    axes[1].axvspan(lc[0], lc[1], color=c, alpha=.4)    \n",
    "axes[1].set_xlabel('LST (hours)')  \n",
    "\n",
    "for ax in axes:\n",
    "    ax.set_xticks(np.arange(-6, 20, 2))\n",
    "    ax.set_xlim([-6,18])\n",
    "    poly = ax.axvspan(-6, 24 * 5.5/2/np.pi - 24, color='grey', alpha=.5)\n",
    "    poly.set_hatch('X')\n",
    "    poly.set_edgecolor('k')\n",
    "    poly = ax.axvspan(24 * 4/2/np.pi, 19, color='grey',alpha=.5)    \n",
    "    poly.set_hatch('X')    \n",
    "    poly.set_edgecolor('k')\n",
    "axes[1].set_xticklabels(np.arange(-6, 20, 2) % 24)\n",
    "\n",
    "axes[0].legend(loc='upper left', framealpha=1)\n",
    "\n",
    "\n",
    "plt.tight_layout()\n",
    "plt.savefig(f'{figures_folder}/{prefix}fields_vs_noise_and_power.pdf', dpi=200)"
   ]
  },
  {
   "cell_type": "markdown",
   "metadata": {},
   "source": [
    "## Show stats after the redundant average"
   ]
  },
  {
   "cell_type": "code",
   "execution_count": null,
   "metadata": {
    "ExecuteTime": {
     "start_time": "2022-04-19T17:00:23.755Z"
    }
   },
   "outputs": [],
   "source": [
    "blvec_dict = {}\n",
    "SNRs = {}\n",
    "field_int_times = {}\n",
    "\n",
    "spw = 1\n",
    "uvp = uvp_xtk_ravg\n",
    "\n",
    "for n, (blp, blvec) in enumerate(zip(uvp_tk_ravg.get_blpairs(), uvp_tk_ravg.get_blpair_blvecs())):\n",
    "    key=(spw, blp, ('pI', 'pI'))\n",
    "    blvec_dict[key] = blvec\n",
    "    horiz_dly = np.linalg.norm(blvec / constants.c.value)\n",
    "    \n",
    "    # recompute average SNR per baseline group\n",
    "    SNRs[key] = {}\n",
    "    field_int_times[key] = {}\n",
    "    SNR = np.real(uvp.get_data(key)) / np.abs(uvp.get_stats('P_N', key))\n",
    "    SNR = np.where(np.isfinite(SNR), SNR, np.nan)\n",
    "\n",
    "    lst_indexes = np.unique(uvp_tk_ravg.lst_1_array, return_index=True)[1]\n",
    "    lsts_wrapped = np.unwrap([uvp_tk_ravg.lst_1_array[i] for i in sorted(lst_indexes)]) * 12 / np.pi\n",
    "    while np.max(lsts_wrapped) > 24:\n",
    "        lsts_wrapped -= 24\n",
    "\n",
    "    dlys = uvp_tk_ravg.get_dlys(key[0])\n",
    "    \n",
    "    total_inttime = uvp.get_integrations(key) * uvp.get_nsamples(key)\n",
    "    \n",
    "    # save average SNR and total integration time per field\n",
    "    for lstcut in lstcuts:\n",
    "        snr_here = SNR[np.logical_and(lsts_wrapped < lstcut[1], lsts_wrapped>  lstcut[0])]\n",
    "        SNRs[key][lstcut] = np.nanmean(np.abs(snr_here[:, (np.abs(dlys) > xtalk_dly_min/1e9) & (np.abs(dlys) < xtalk_dly_max/1e9)]))        \n",
    "        field_int_times[key][lstcut] = np.sum(total_inttime[(lsts_wrapped < lstcut[1]) & (lsts_wrapped>  lstcut[0]) & (np.all(np.isfinite(SNR), axis=1))])"
   ]
  },
  {
   "cell_type": "markdown",
   "metadata": {},
   "source": [
    "### Total baseline-pair seconds per baseline group"
   ]
  },
  {
   "cell_type": "code",
   "execution_count": null,
   "metadata": {
    "ExecuteTime": {
     "start_time": "2022-04-19T17:00:23.756Z"
    }
   },
   "outputs": [],
   "source": [
    "fig, axes = plt.subplots(len(lstcuts),1, figsize=(7,14.5), sharex=True, gridspec_kw={'hspace': 0})\n",
    "\n",
    "for i, lstcut in enumerate(lstcuts):\n",
    "    ax = axes.flatten()[i]\n",
    "    blvecs = np.array([blvec for blvec in uvp_tk_ravg.get_blpair_blvecs()])\n",
    "    int_times = np.array([])\n",
    "    for n, (blp, blvec) in enumerate(zip(uvp_tk_ravg.get_blpairs(), uvp_tk_ravg.get_blpair_blvecs())):\n",
    "        key=(spw, blp, ('pI', 'pI'))\n",
    "        int_times = np.append(int_times, field_int_times[key][lstcut])\n",
    "    scatter = ax.scatter(blvecs[:,0], blvecs[:,1], c=int_times, s=350, cmap='inferno', edgecolors='k', norm=matplotlib.colors.LogNorm(vmin=1e6, vmax=1e9))\n",
    "    ax.set_aspect('equal')\n",
    "    ax.set_ylim([-110, 10])\n",
    "    if i == (len(lstcuts) - 1):\n",
    "        ax.set_xlabel('EW-Baseline Component (m)', fontsize=16)\n",
    "        \n",
    "    ax.set_ylabel('NS-Baseline (m)', fontsize=16)\n",
    "    ax.text(101, -103, f'Field {\"ABCDEFGHIJ\"[i]}', va='center', ha='right')#, bbox=dict(facecolor='w', alpha=0.8))\n",
    "plt.tight_layout()\n",
    "\n",
    "fig.subplots_adjust(right=0.8)\n",
    "cbar_ax = fig.add_axes([0.8, axes[-1].get_position().extents[1], 0.05, \n",
    "                        axes[0].get_position().extents[-1] - axes[-1].get_position().extents[1]])\n",
    "fig.colorbar(scatter, cax=cbar_ax, label='Total Observation Time [Baseline-Pair Seconds]', extend='min')"
   ]
  },
  {
   "cell_type": "markdown",
   "metadata": {},
   "source": [
    "### Residual cross-talk after flagging and averaging"
   ]
  },
  {
   "cell_type": "code",
   "execution_count": null,
   "metadata": {
    "ExecuteTime": {
     "start_time": "2022-04-19T17:00:23.758Z"
    }
   },
   "outputs": [],
   "source": [
    "fig, axes = plt.subplots(len(lstcuts), 1, figsize=(7,14.5), sharex=True, gridspec_kw={'hspace': 0})\n",
    "\n",
    "for i, lstcut in enumerate(lstcuts):\n",
    "    ax = axes.flatten()[i]\n",
    "    blvecs = np.array([blvec for blvec in uvp_tk_ravg.get_blpair_blvecs()])\n",
    "    avg_snrs = np.array([])\n",
    "    for n, (blp, blvec) in enumerate(zip(uvp_tk_ravg.get_blpairs(), uvp_tk_ravg.get_blpair_blvecs())):\n",
    "        key=(spw, blp, ('pI', 'pI'))\n",
    "        if SNRs[key][lstcut] == 0:\n",
    "            avg_snrs = np.append(avg_snrs, 0)\n",
    "        else:\n",
    "            avg_snrs = np.append(avg_snrs, SNRs[key][lstcut])\n",
    "    scatter = ax.scatter(blvecs[:,0], blvecs[:,1], c=avg_snrs, s=350, cmap='turbo', edgecolors='k', norm=matplotlib.colors.LogNorm())\n",
    "    scatter.set_clim([.63, 2])\n",
    "    ax.set_aspect('equal')\n",
    "    ax.set_ylim([-110, 10])\n",
    "    if i == (len(lstcuts) - 1):\n",
    "        ax.set_xlabel('EW-Baseline Component (m)', fontsize=16)\n",
    "        \n",
    "    ax.set_ylabel('NS-Baseline (m)', fontsize=16)\n",
    "    ax.text(101, -103, f'Field {\"ABCDEFGHIJ\"[i]}', va='center', ha='right')#, bbox=dict(facecolor='w', alpha=0.8))\n",
    "\n",
    "plt.tight_layout()\n",
    "    \n",
    "fig.subplots_adjust(right=0.8)\n",
    "cbar_ax = fig.add_axes([0.8, axes[-1].get_position().extents[1], 0.05, \n",
    "                        axes[0].get_position().extents[-1] - axes[-1].get_position().extents[1]])\n",
    "cbar = fig.colorbar(scatter, cax=cbar_ax,  extend='both')\n",
    "cbar.set_label(label='Average $|$SNR$|$ at ' + f'{xtalk_dly_min}' + ' $<|\\\\tau |<$ ' + f'{xtalk_dly_max} ns After Averaging', labelpad=-30)\n",
    "    \n",
    "plt.savefig(f'{figures_folder}/{prefix}redundant_avg_xtalk_SNR_band_{spw+1}.pdf', dpi=200)"
   ]
  },
  {
   "cell_type": "markdown",
   "metadata": {},
   "source": [
    "# 3. Incoherent time average in LST fields"
   ]
  },
  {
   "cell_type": "code",
   "execution_count": null,
   "metadata": {
    "ExecuteTime": {
     "start_time": "2022-04-19T17:00:23.759Z"
    }
   },
   "outputs": [],
   "source": [
    "# make LST cuts\n",
    "fields_used = []\n",
    "uvp_xtk_tavg, uvp_tk_tavg = [], []\n",
    "for field, lc in enumerate(lstcuts):\n",
    "    # weight time-average by P_N\n",
    "    history = \"LST cut {} hours, average weighted by P_N\".format(lc)\n",
    "    lst_indexes = np.unique(uvp_xtk_ravg.lst_1_array, return_index=True)[1]\n",
    "    lsts = np.array([uvp_xtk_ravg.lst_avg_array[i] for i in sorted(lst_indexes)])\n",
    "    lsts_hrs = np.unwrap(lsts) * 12 / np.pi \n",
    "    while np.max(lsts_hrs) > 24:\n",
    "        lsts_hrs -= 24\n",
    "    \n",
    "    lcut = (lsts_hrs >= lc[0]) & (lsts_hrs <= lc[1])\n",
    "    if not np.any(lcut):\n",
    "        continue\n",
    "    \n",
    "    # average with cross-talk subtraction \n",
    "    u = uvp_xtk_ravg.select(lsts=lsts[lcut], inplace=False)\n",
    "    if not np.any(np.isfinite(u.stats_array['P_N'][0])):\n",
    "        if not np.any(np.isfinite(u.stats_array['P_N'][1])):\n",
    "            continue\n",
    "    u.average_spectra(time_avg=True, error_weights='P_N', error_field=['P_SN'], add_to_history=history)\n",
    "    uvp_xtk_tavg.append(u)\n",
    "\n",
    "    # average without cross-talk subtraction\n",
    "    u = uvp_tk_ravg.select(lsts=lsts[lcut], inplace=False)\n",
    "    u.average_spectra(time_avg=True, error_weights='P_N', error_field=['P_SN'], add_to_history=history)\n",
    "    uvp_tk_tavg.append(u)\n",
    "    \n",
    "    fields_used.append(field)    "
   ]
  },
  {
   "cell_type": "markdown",
   "metadata": {},
   "source": [
    "## Cylindrical Power Spectra and SNR"
   ]
  },
  {
   "cell_type": "code",
   "execution_count": null,
   "metadata": {
    "ExecuteTime": {
     "start_time": "2022-04-19T17:00:23.760Z"
    },
    "scrolled": false
   },
   "outputs": [],
   "source": [
    "# basic settings\n",
    "component = 'real'\n",
    "cmap1 = plt.get_cmap(\"turbo\").copy()\n",
    "cmap1.set_bad('w')\n",
    "if 'abs' in component:\n",
    "    cmap1.set_under(plt.cm.turbo([0])[0])\n",
    "else:\n",
    "    cmap1.set_under('w')\n",
    "cmap2 = plt.get_cmap(\"bwr\")\n",
    "\n",
    "xlim = 0.005, 0.048\n",
    "ylim = 0.018, 2.7\n",
    "\n",
    "for spw in [0, 1]:\n",
    "\n",
    "    fig, axes = plt.subplots(2, len(uvp_xtk_tavg), figsize=(16, 8))\n",
    "    fig.subplots_adjust(wspace=0.03, hspace=0.03)\n",
    "\n",
    "\n",
    "    for i in range(2):\n",
    "        for j in range(len(uvp_xtk_tavg)):\n",
    "            ax = axes[i, j]\n",
    "            ax.axvspan(0, 1, 0, 1, color='grey', zorder=0)\n",
    "            \n",
    "            # select only baseline pairs with finite noise\n",
    "            u = copy.deepcopy(uvp_xtk_tavg[j])\n",
    "            good_blps = set([])\n",
    "            for key in u.get_all_keys():\n",
    "                if key[0] == spw:\n",
    "                    if np.all(np.isfinite(u.get_stats('P_N', key))):\n",
    "                        good_blps.add(key[1])\n",
    "            if len(good_blps) == 0:\n",
    "                continue\n",
    "            u.select(blpairs=sorted(good_blps))\n",
    "\n",
    "            if i == 0:\n",
    "                ax2, ax3 = utils.wedge_plot(u, ax, spw, dly_label=False, cmap=cmap1, component=component, error_weights='P_N',\n",
    "                                            xlim=xlim, ylim=ylim, twinx=False, twiny=True, fontsize=22, log10=False,\n",
    "                                            norm=matplotlib.colors.LogNorm(vmin=1e4, vmax=1e16))\n",
    "                ax2.set_xticks([100], minor=False); ax2.set_xticklabels([100], minor=False)\n",
    "                ax2.set_xticks([25, 50, 75], minor=True); ax2.set_xticklabels([25, 50, 75], minor=True)\n",
    "            else:\n",
    "                u.data_array[spw] /= u.stats_array['P_N'][spw].real\n",
    "                ax2, ax3 = utils.wedge_plot(u, ax, spw, dly_label=False, cmap=cmap2, component=component, log10=False,\n",
    "                                 xlim=xlim, ylim=ylim, fontsize=22, twinx=False, twiny=False, vmin=-2, vmax=2)\n",
    "            ax.tick_params(labelsize=20)\n",
    "            if j > 0:\n",
    "                ax.set_yticklabels([])\n",
    "                ax.set_ylabel('')\n",
    "            if i == 0:\n",
    "                ax.set_xticklabels([])\n",
    "                ax.set_xlabel('')\n",
    "            if i == 0:\n",
    "                ax.text(0.05, 0.9, \"Band {}, Field {}\".format(spw+1, \"ABCDEFGHIJ\"[fields_used[j]]), fontsize=18, transform=ax.transAxes, \n",
    "                        color='k', bbox=dict(facecolor='w', alpha=0.9))\n",
    "            # plot buffer\n",
    "            x = np.linspace(5, 120)  # meters\n",
    "            y = 1e9 / scipy.constants.c * x + wedge_buff_ns  # ns\n",
    "            z = u.cosmo.f2z(np.mean(u.get_spw_ranges(spw)[0][:2]))\n",
    "            kperp, kpara = x * u.cosmo.bl_to_kperp(z, little_h=True), y * u.cosmo.tau_to_kpara(z, little_h=True) / 1e9\n",
    "            ax.plot(kperp, kpara, c='k', lw=2)\n",
    "\n",
    "        if i == 0:\n",
    "            cbax = fig.add_axes([0.825, 0.535, 0.1, 0.34])\n",
    "        else:\n",
    "            cbax = fig.add_axes([0.825, 0.125, 0.1, 0.37])\n",
    "        cbax.axis('off')\n",
    "        cax = ax.collections[0]\n",
    "        extend = 'both' if i == 0 else 'both'\n",
    "        cbar = fig.colorbar(cax, ax=cbax, extend=extend)\n",
    "        cbar.ax.tick_params(labelsize=20, direction='out', size=4)\n",
    "        if i== 0:\n",
    "            cbar.set_label(r\"$\\mbox{Re}[P(k_\\parallel, k_\\perp)]\\ [{\\rm mK}^2\\ h^{-3}\\ {\\rm Mpc}^3]$\", fontsize=18, labelpad=8)\n",
    "            cbar.ax.set_xlabel(\"$< 0$\", labelpad=2, fontsize=15)\n",
    "        else:\n",
    "            cbar.set_label(r\"$P(k_\\parallel, k_\\perp) / P_{\\rm N}(k_\\parallel,k_\\perp)$\", fontsize=18, labelpad=15)\n",
    "\n",
    "    plt.savefig(f'{figures_folder}/{prefix}Cylindrical_Pk_Band_{spw+1}.png', dpi=200)"
   ]
  },
  {
   "cell_type": "markdown",
   "metadata": {},
   "source": [
    "## Cylindrical Power Spectrum Noise"
   ]
  },
  {
   "cell_type": "code",
   "execution_count": null,
   "metadata": {
    "ExecuteTime": {
     "start_time": "2022-04-19T17:00:23.762Z"
    }
   },
   "outputs": [],
   "source": [
    "for spw in [0, 1]:\n",
    "    fig, axes = plt.subplots(1, len(uvp_xtk_tavg), figsize=(16, 4))\n",
    "    fig.subplots_adjust(wspace=0.03, hspace=0.03)\n",
    "    for j in range(len(uvp_xtk_tavg)):\n",
    "        ax = axes[j]\n",
    "        ax.axvspan(0, 1, 0, 1, color='grey', zorder=0)\n",
    "\n",
    "        # select only baseline pairs with finite noise\n",
    "        u = copy.deepcopy(uvp_xtk_tavg[j])\n",
    "        good_blps = set([])\n",
    "        for key in u.get_all_keys():\n",
    "            if key[0] == spw:\n",
    "                if np.all(np.isfinite(u.get_stats('P_N', key))):\n",
    "                    good_blps.add(key[1])\n",
    "        if len(good_blps) == 0:\n",
    "            continue\n",
    "        u.select(blpairs=sorted(good_blps))\n",
    "        \n",
    "        u.data_array[spw] = copy.deepcopy(u.stats_array['P_N'][spw])\n",
    "\n",
    "        ax2, ax3 = utils.wedge_plot(u, ax, spw, dly_label=False, cmap=cmap1, component=component, error_weights='P_N',\n",
    "                                    xlim=xlim, ylim=ylim, twinx=False, twiny=True, fontsize=22, log10=False,\n",
    "                                    norm=matplotlib.colors.LogNorm(vmin=1e4, vmax=1e16))\n",
    "        ax2.set_xticks([100], minor=False); ax2.set_xticklabels([100], minor=False)\n",
    "        ax2.set_xticks([25, 50, 75], minor=True); ax2.set_xticklabels([25, 50, 75], minor=True)\n",
    "        ax.tick_params(labelsize=20)\n",
    "        if j > 0:\n",
    "            ax.set_yticklabels([])\n",
    "            ax.set_ylabel('')\n",
    "        ax.text(0.05, 0.9, \"Band {}, Field {}\".format(spw+1, \"ABCDEFGHIJ\"[fields_used[j]]), fontsize=18, transform=ax.transAxes,\n",
    "                bbox=dict(facecolor='w', alpha=0.9))\n",
    "\n",
    "        # plot buffer\n",
    "        x = np.linspace(5, 120)  # meters\n",
    "        y = 1e9 / scipy.constants.c * x + 200  # ns\n",
    "        z = u.cosmo.f2z(np.mean(u.get_spw_ranges(spw)[0][:2]))\n",
    "        kperp, kpara = x * u.cosmo.bl_to_kperp(z, little_h=True), y * u.cosmo.tau_to_kpara(z, little_h=True) / 1e9\n",
    "        ax.plot(kperp, kpara, c='k', lw=2)\n",
    "\n",
    "    cbax = fig.add_axes([0.825, 0.125, 0.1, 0.75])\n",
    "    cbax.axis('off')\n",
    "    cax = ax.collections[0]\n",
    "    cbar = fig.colorbar(cax, ax=cbax, extend='both')\n",
    "    cbar.ax.tick_params(labelsize=20, direction='out', size=4)\n",
    "    cbar.set_label(r\"$P_N(k_\\parallel, k_\\perp)\\ [{\\rm mK}^2\\ h^{-3}\\ {\\rm Mpc}^3]$\", fontsize=18, labelpad=15)\n",
    "    \n",
    "    plt.savefig(f'{figures_folder}/{prefix}Cylindrical_P_N_Band_{spw+1}.png', dpi=200)"
   ]
  },
  {
   "cell_type": "markdown",
   "metadata": {},
   "source": [
    "## Explore the distribution of noise-like bins\n",
    "\n",
    "Tries to see if the distribution of apparently noise-dominated measurements is consistent with expectations"
   ]
  },
  {
   "cell_type": "code",
   "execution_count": null,
   "metadata": {
    "ExecuteTime": {
     "start_time": "2022-04-19T17:00:23.763Z"
    }
   },
   "outputs": [],
   "source": [
    "def bootstrap_mad(x, N=None, replace=False):\n",
    "    '''Estimate the median absolute deviation with boostrapping'''\n",
    "    if N is None:\n",
    "        N = len(x)\n",
    "    s = np.random.choice(np.arange(len(x)), size=N, replace=replace)\n",
    "    return np.std(x[s])\n",
    "    return np.median(np.abs(x[s] - np.median(x[s]))) * 1.4826\n",
    "\n",
    "def bootstrap_std(x, N=None, replace=False):\n",
    "    '''Estimate the standard deviation with boostrapping'''\n",
    "    if N is None:\n",
    "        N = len(x)\n",
    "    s = np.random.choice(np.arange(len(x)), size=N, replace=replace)\n",
    "    return np.std(x[s])"
   ]
  },
  {
   "cell_type": "code",
   "execution_count": null,
   "metadata": {
    "ExecuteTime": {
     "start_time": "2022-04-19T17:00:23.764Z"
    }
   },
   "outputs": [],
   "source": [
    "fig, axes = plt.subplots(2, 1, figsize=(8, 8))\n",
    "fig.subplots_adjust(wspace=0, hspace=0)\n",
    "\n",
    "xlim = -9, 9\n",
    "ylim = 2e-4, 9e-1\n",
    "colors = lst_colors\n",
    "\n",
    "for spw, ax in enumerate(axes):\n",
    "    ax.tick_params(labelsize=15, size=5, direction='in')\n",
    "    ax.tick_params(size=3, direction='in', which='minor')\n",
    "    # construct grid of kparas for each kperp with buffer of 0.2\n",
    "    u = uvp_xtk_tavg[0]\n",
    "    kp, bl_seps = u.get_kparas(spw), u.get_blpair_seps()\n",
    "    z = u.cosmo.f2z(np.mean(u.get_spw_ranges(spw)[0][:2]))\n",
    "    ks = []\n",
    "    for ii, bl_sep in enumerate(bl_seps):\n",
    "        ks.append(np.abs(kp) >= (1e9 / scipy.constants.c * bl_sep * u.cosmo.tau_to_kpara(z) / 1e9 + 0.2))\n",
    "    ks = np.array(ks).ravel()\n",
    "    ax2 = fig.add_axes([0.15, 0.68-spw*0.38, 0.18, 0.18])\n",
    "    ax2.tick_params(labelsize=12, size=4, direction='in')\n",
    "    ax2.set_yticks([])\n",
    "    ax2.set_xlim(0.88, 1.12)\n",
    "    ax2.set_xlabel(r\"$\\sigma_{P/P_{N}}$\", fontsize=16)\n",
    "    \n",
    "    ax.plot(np.arange(xlim[0], xlim[1], .1), (2*np.pi)**-.5 * np.exp(-np.arange(xlim[0], xlim[1], .1)**2 / 2), 'k--', label='Gaussian')\n",
    "    \n",
    "    for i in range(len(uvp_xtk_tavg)):\n",
    "        u = copy.deepcopy(uvp_xtk_tavg[i])\n",
    "        for blp, blvec in zip(u.get_blpairs(), u.get_blpair_blvecs()):\n",
    "            cut = False\n",
    "            if np.linalg.norm(blvec) < sph_minimum_bl_length:\n",
    "                cut = True\n",
    "            if np.linalg.norm(blvec) > sph_maximum_bl_length:\n",
    "                cut = True\n",
    "            if np.abs(blvec[0]) < sph_minimum_ew_distance:\n",
    "                cut = True\n",
    "            if cut:\n",
    "                for pp in u.get_polpairs():\n",
    "                    key = (spw, blp, pp)\n",
    "                    u.set_stats('P_N', key, np.ones_like(u.get_stats('P_N', key)) * np.inf)\n",
    "\n",
    "        d = (u.data_array[spw].real / u.stats_array['P_N'][spw].real).ravel()[ks]\n",
    "        d = d[~np.isclose(d, 0)]\n",
    "        ax.hist(d, bins=45, range=xlim, histtype='step', lw=2, density=True, label='Field {}'.format(\"ABCDEFGHIJ\"[fields_used[i]]), color=colors[i])\n",
    "        \n",
    "        bs = [bootstrap_std(d, replace=True) for _ in range(500)]\n",
    "        ax2.hist(bs, bins=31, histtype='step', range=(0.85, 1.15), lw=1., color=colors[i])\n",
    "    \n",
    "    if spw == 0:\n",
    "        ax.legend(fontsize=14, loc=0)\n",
    "        ax.set_title(r\"$P(|k| \\ge k_{\\rm horizon} + 0.2\\ h\\ {\\rm Mpc}^{-1}) / P_N$\", fontsize=18)\n",
    "    else:\n",
    "        ax.set_xlabel(r\"$P(k) / P_N(k)$\", fontsize=18)\n",
    "    ax.set_xticks(np.arange(-8, 8.1, 2))\n",
    "    ax.set_ylabel('Density', fontsize=18)\n",
    "    ax.set_xlim(xlim)\n",
    "    ax.set_ylim(ylim)\n",
    "    ax.set_yticks([])\n",
    "    ax.set_yscale('log')\n",
    "    ax.text(0.5, 0.1, \"Band {}\".format(spw+1), fontsize=16, transform=ax.transAxes, ha='center', va='center')\n",
    "\n",
    "plt.savefig(f'{figures_folder}/{prefix}wedge_hist.png', dpi=200)"
   ]
  },
  {
   "cell_type": "markdown",
   "metadata": {},
   "source": [
    "# Spherical average"
   ]
  },
  {
   "cell_type": "markdown",
   "metadata": {},
   "source": [
    "## Compute window functions ad hoc\n",
    "These are identical for all blpairs and times, so compute it once. This is not done by the pipeline, but the data products contain all necessary metadata to compute these ad hoc. Note that in the cells below all parameters come from the uvp metadata."
   ]
  },
  {
   "cell_type": "code",
   "execution_count": null,
   "metadata": {
    "ExecuteTime": {
     "start_time": "2022-04-19T17:00:23.766Z"
    }
   },
   "outputs": [],
   "source": [
    "# figure out the correct order of files, based on a split at 4.71 radians\n",
    "def file_lst_for_sort(fn):\n",
    "    lst = float(fn.split('.LST.')[-1].split('.sum.')[0]) - 4.71\n",
    "    if lst < 0:\n",
    "        lst += 2 * np.pi\n",
    "    return lst\n",
    "\n",
    "all_files_here = sorted(glob.glob('/lustre/aoc/projects/hera/Validation/test-4.1.0/LSTBIN/epoch_2/pspec/zen.*LST*PX*.uvh5'), key=file_lst_for_sort)\n",
    "# load a single dummy file\n",
    "uvd = UVData()\n",
    "uvd.read(all_files_here[len(all_files_here) // 2], bls=[(12, 13), (12, 12), (13, 13)], polarizations=['pI'])\n",
    "uvd.select(times=uvd.time_array[:1])"
   ]
  },
  {
   "cell_type": "code",
   "execution_count": null,
   "metadata": {
    "ExecuteTime": {
     "start_time": "2022-04-19T17:00:23.767Z"
    }
   },
   "outputs": [],
   "source": [
    "# initialize pspecdata\n",
    "beam = hp.PSpecBeamUV('/lustre/aoc/projects/hera/nkern/beams/NF_HERA_IQ_power_beam_healpix128.fits')\n",
    "ds = hp.PSpecData(dsets=[uvd], wgts=[None], beam=beam)\n",
    "ds.Jy_to_mK()\n",
    "\n",
    "# get spw\n",
    "u = uvp_xtk_ravg\n",
    "spw_ranges = u.get_spw_ranges()\n",
    "spw_ranges = [np.where((uvd.freq_array[0] >= sr[0]-1e-9)&(uvd.freq_array[0] <= sr[1]+1e-9))[0] for sr in spw_ranges]\n",
    "spw_ranges = [(sr[0], sr[-1]) for sr in spw_ranges]\n",
    "\n",
    "# run pspec with parameters in file history\n",
    "_u = ds.pspec([(12, 13)], [(12, 13)], (0, 0), u.get_polpairs(), input_data_weight=u.weighting,\n",
    "             norm=u.norm, taper=u.taper, little_h='h^-3' in u.norm_units, spw_ranges=spw_ranges, store_cov=True,\n",
    "             store_window=True, verbose=False, cov_model='autos')"
   ]
  },
  {
   "cell_type": "code",
   "execution_count": null,
   "metadata": {
    "ExecuteTime": {
     "start_time": "2022-04-19T17:00:23.768Z"
    }
   },
   "outputs": [],
   "source": [
    "# insert window functions into uvp\n",
    "wf = _u.window_function_array[0]\n",
    "for ut in uvp_xtk_tavg:\n",
    "    ut.window_function_array = {k: np.repeat(_u.window_function_array[k], ut.Nblpairts, axis=0) for k in _u.spw_array}"
   ]
  },
  {
   "cell_type": "code",
   "execution_count": null,
   "metadata": {
    "ExecuteTime": {
     "start_time": "2022-04-19T17:00:23.770Z"
    }
   },
   "outputs": [],
   "source": [
    "# insert covariance: ad hoc b/c computing covariance for each blpair is too expensive, and noise cov is simple\n",
    "norm_cov = {}\n",
    "ut = uvp_xtk_tavg[0]\n",
    "for spw in ut.spw_array:\n",
    "    norm_cov[spw] = _u.cov_array_real[spw].squeeze()\n",
    "    norm_cov[spw] /= _u.cov_array_real[spw].squeeze().diagonal().mean()"
   ]
  },
  {
   "cell_type": "code",
   "execution_count": null,
   "metadata": {
    "ExecuteTime": {
     "start_time": "2022-04-19T17:00:23.771Z"
    }
   },
   "outputs": [],
   "source": [
    "uvp_xtk_sph_1, uvp_tk_sph_1 = [], []\n",
    "uvp_xtk_sph_2, uvp_tk_sph_2 = [], []\n",
    "\n",
    "# spherical average onto wide LOS k grid\n",
    "# note that only covariance arrays will be reliable, as stats_arrays cannot account for bin2bin correlation\n",
    "for band in range(2):\n",
    "    # set dk separately for each band   \n",
    "    dk = dk_multiplier * np.median(np.diff(uvp_xtk_tavg[0].get_kparas(band)))\n",
    "    kbins = np.arange(k_start_multiplied * dk, 2.5, dk) # even spacing \n",
    "\n",
    "    for uvp_xtk, uvp_tk in list(zip(uvp_xtk_tavg, uvp_tk_tavg)):\n",
    "        # deepcopy\n",
    "        u_xtk, u_tk = copy.deepcopy(uvp_xtk), copy.deepcopy(uvp_tk)\n",
    "        # make a covariance based on norm_cov, scaled by P_N and P_SN if detection is > 2 sigma\n",
    "        utils.stat_to_cov(u_xtk, 'P_SN', norm_cov)\n",
    "        # set P_N for all k_para modes below horizon delay + wedge_buff to large value\n",
    "        u_xtk.set_stats_slice('P_N', 1e9 / scipy.constants.c, wedge_buff_ns, above=False, val=np.inf)\n",
    "        u_tk.set_stats_slice('P_N', 1e9 / scipy.constants.c, wedge_buff_ns, above=False, val=np.inf)\n",
    "\n",
    "        # cut baselines by setting noise to infinity\n",
    "        for blp, blvec in zip(u_xtk.get_blpairs(), u_xtk.get_blpair_blvecs()):\n",
    "            cut = False\n",
    "            if np.linalg.norm(blvec) < sph_minimum_bl_length:\n",
    "                cut = True\n",
    "            if np.linalg.norm(blvec) > sph_maximum_bl_length:\n",
    "                cut = True\n",
    "            if np.abs(blvec[0]) < sph_minimum_ew_distance:\n",
    "                cut = True\n",
    "            if cut:\n",
    "                for spw in u_xtk.spw_array:\n",
    "                    for pp in u_xtk.get_polpairs():\n",
    "                        k = (spw, blp, pp)\n",
    "                        u_tk.set_stats('P_N', k, np.ones_like(u_tk.get_stats('P_N', k)) * np.inf)\n",
    "                        u_xtk.set_stats('P_N', k, np.ones_like(u_xtk.get_stats('P_N', k)) * np.inf)\n",
    "\n",
    "        # spherical average\n",
    "        history = \"average weighted by P_N, with {} ns wedge buffer exclusion\".format(wedge_buff_ns)\n",
    "        sph_xtk = hp.grouping.spherical_average(u_xtk, kbins, dk, error_weights='P_N', add_to_history=history)\n",
    "        sph_tk = hp.grouping.spherical_average(u_tk, kbins, dk, error_weights='P_N', add_to_history=history)\n",
    "        # but wait: repeat with P_N scaled norm_cov to get proper P_N level (only needed if dk > 0.032)\n",
    "        utils.stat_to_cov(u_xtk, 'P_N', norm_cov)\n",
    "        sph2 = hp.grouping.spherical_average(u_xtk, kbins, dk, error_weights='P_N')\n",
    "        for spw in sph_xtk.spw_array:\n",
    "            sph_xtk.stats_array['P_N'][spw][0, :, 0] = np.sqrt(np.diagonal(sph2.cov_array_real[spw].squeeze()))\n",
    "        # remove P_SN in stats array to avoid confusion\n",
    "        sph_xtk.stats_array.pop('P_SN')\n",
    "        # append\n",
    "        if band == 0:            \n",
    "            uvp_xtk_sph_1.append(sph_xtk)\n",
    "            uvp_tk_sph_1.append(sph_tk)\n",
    "        else:\n",
    "            uvp_xtk_sph_2.append(sph_xtk)\n",
    "            uvp_tk_sph_2.append(sph_tk)            "
   ]
  },
  {
   "cell_type": "markdown",
   "metadata": {},
   "source": [
    "## Examine binning choices"
   ]
  },
  {
   "cell_type": "code",
   "execution_count": null,
   "metadata": {
    "ExecuteTime": {
     "start_time": "2022-04-19T17:00:23.773Z"
    },
    "scrolled": false
   },
   "outputs": [],
   "source": [
    "old_binning=False # use the binning parameters for H1C IDR 2.2\n",
    "field = 2\n",
    "\n",
    "fig, axes = plt.subplots(2, 1, figsize=(16, 7), sharex=True)\n",
    "fig.subplots_adjust(wspace=0.03, hspace=0.0)\n",
    "\n",
    "if old_binning:\n",
    "    wedge_buffer = 200\n",
    "    min_ew = 0\n",
    "else:\n",
    "    wedge_buffer = wedge_buff_ns\n",
    "    min_ew = sph_minimum_ew_distance\n",
    "        \n",
    "for band, ax in enumerate(axes):\n",
    "    # keep track of which points are flagged and which ones are not\n",
    "    kept_k_perps = []\n",
    "    kept_k_paras = []\n",
    "    flagged_k_perps = []\n",
    "    flagged_k_paras = []\n",
    "\n",
    "    # deepcopy\n",
    "    u_xtk = copy.deepcopy(uvp_xtk_tavg[field])\n",
    "    # set P_N for all k_para modes below horizon delay + wedge_buff to large value\n",
    "    u_xtk.set_stats_slice('P_N', 1e9 / scipy.constants.c, wedge_buffer, above=False, val=np.inf)\n",
    "\n",
    "    # cut baselines by setting noise to infinity\n",
    "    for blp, blvec, k_perp in zip(u_xtk.get_blpairs(), u_xtk.get_blpair_blvecs(), u_xtk.get_kperps(band)):\n",
    "        if not np.any(np.isfinite(u_xtk.get_stats('P_N', (band, blp, ('pI', 'pI'))))):\n",
    "            continue\n",
    "            \n",
    "        cut = False\n",
    "        if np.linalg.norm(blvec) < sph_minimum_bl_length:\n",
    "            cut = True\n",
    "        if np.linalg.norm(blvec) > sph_maximum_bl_length:\n",
    "            cut = True\n",
    "        if np.abs(blvec[0]) < min_ew:\n",
    "            cut = True\n",
    "        if cut:\n",
    "            for spw in u_xtk.spw_array:\n",
    "                for pp in u_xtk.get_polpairs():\n",
    "                    k = (spw, blp, pp)\n",
    "                    u_xtk.set_stats('P_N', k, np.ones_like(u_xtk.get_stats('P_N', k)) * np.inf)\n",
    "\n",
    "        k = (band, blp, pp)\n",
    "        flags_here = ~np.isfinite(u_xtk.get_stats('P_N', k)).squeeze()\n",
    "        k_paras = u_xtk.get_kparas(band)\n",
    "        kept_k_paras.extend(np.abs(k_paras[~flags_here]))\n",
    "        kept_k_perps.extend(k_perp * np.ones_like(k_paras[~flags_here]))\n",
    "        flagged_k_paras.extend(np.abs(k_paras[flags_here]))\n",
    "        flagged_k_perps.extend(k_perp * np.ones_like(k_paras[flags_here]))\n",
    "\n",
    "    # convert from k_para and k_perp to k\n",
    "    kept_ks = (np.array(kept_k_perps)**2 + np.array(kept_k_paras)**2)**.5\n",
    "    flagged_ks = (np.array(flagged_k_perps)**2 + np.array(flagged_k_paras)**2)**.5    \n",
    "    \n",
    "    # figure out where the horizon wedge and buffer are\n",
    "    avgz = uvp.cosmo.f2z(np.mean(u_xtk.freq_array[u_xtk.spw_to_freq_indices(band)]))\n",
    "    bl_to_kperp = u_xtk.cosmo.bl_to_kperp(avgz)\n",
    "    tau_to_kpara = u_xtk.cosmo.tau_to_kpara(avgz)\n",
    "    horizon_taus = np.arange(0, 2000, 1) / 1e9\n",
    "    horizon_kparas = horizon_taus * tau_to_kpara\n",
    "    horizon_bls = horizon_taus * constants.c.value\n",
    "    horizon_kperps = horizon_bls * bl_to_kperp\n",
    "    horizon_ks = np.sqrt(horizon_kperps**2 + horizon_kparas**2)\n",
    "\n",
    "    buffer_taus = (wedge_buffer + np.arange(0, 2000, 1)) / 1e9 \n",
    "    buffer_kparas = buffer_taus * tau_to_kpara\n",
    "    buffer_ks = np.sqrt(horizon_kperps**2 + buffer_kparas**2)\n",
    "    \n",
    "    \n",
    "    # set dk separately for each band\n",
    "    dk = dk_multiplier * np.median(np.diff(u_xtk.get_kparas(band)))\n",
    "    kbins = np.arange(k_start_multiplied * dk, 2.5, dk) # even spacing \n",
    "    if old_binning:\n",
    "        dk = .064\n",
    "        kbins = np.arange(0, 2.5, dk)\n",
    "    kbin_edges = kbins - dk / 2\n",
    "    \n",
    "    ax.set_xlim([0, 1])\n",
    "    ax.set_ylim([0, .07])    \n",
    "    ax.set_ylabel(r'$k_\\perp\\ [h\\ {\\rm Mpc}^{-1}$]')    \n",
    "    ax.plot(flagged_ks, flagged_k_perps, 'r.', ms=10, label='Flagged')\n",
    "    ax.plot(kept_ks, kept_k_perps, '.', label='Not Flagged')\n",
    "    ax.plot(horizon_ks, horizon_kperps, '--', lw=4, color='grey', label='Horizon')\n",
    "    ax.plot(buffer_ks, horizon_kperps, 'k', lw=4, label='Horizon + Buffer')\n",
    "    for i, edge in enumerate(kbin_edges):\n",
    "        ax.axvline(edge, color='k', linestyle='--', label=[None, '$k$ Bin Edge'][i==0])    \n",
    "    ax.text(.99, .066, f'Band {band + 1}: ' + r'$\\Delta k$ =' + f'{dk:.3f}', ha='right', va='top', bbox=dict(facecolor='w', alpha=1))\n",
    "    \n",
    "    # Show the number of unique baseline delays kept per k bin\n",
    "    kept_ks_per_bin = []\n",
    "    for e1, e2 in zip(kbin_edges[:-1], kbin_edges[1:]):\n",
    "        kept_ks_per_bin.append(int(len(kept_ks[(kept_ks >= e1) & (kept_ks < e2)]) // 2)) # factor of 2 account for positive and negative k_paras\n",
    "    df = pd.DataFrame({f'Band {band+1}: ' + '$k\\ [h\\ {Mpc}^{-1}]$': [f'{k:.2f}' for k in kbins[0:int(1//dk)]],\n",
    "                       'Number of unique-baseline-delays per bin': kept_ks_per_bin[0:int(1//dk)]})\n",
    "    to_display = df.T.style.set_table_styles([{'selector': 'thead', 'props': [('display', 'none')]}]) \\\n",
    "               .apply(lambda x: [\"border-left: 1px solid black\" for i, col in enumerate(x)], axis=1) \\\n",
    "               .set_properties(width='40px')\n",
    "    display(HTML(to_display.render()))\n",
    "    \n",
    "axes[1].legend(loc='lower right', framealpha=1)#, title=f'Band {band + 1}')\n",
    "axes[1].set_xlabel(r'$k\\ [h\\ {\\rm Mpc}^{-1}]$')\n",
    "\n",
    "plt.tight_layout()\n",
    "plt.savefig(f'{figures_folder}/{prefix}' + ['spherical_binning.pdf', 'spherical_binning_old.pdf'][old_binning], dpi=200)"
   ]
  },
  {
   "cell_type": "markdown",
   "metadata": {},
   "source": [
    "## Plot single $\\Delta^2(k)$ with window functions"
   ]
  },
  {
   "cell_type": "code",
   "execution_count": null,
   "metadata": {
    "ExecuteTime": {
     "start_time": "2022-04-19T17:00:23.774Z"
    }
   },
   "outputs": [],
   "source": [
    "# convert to dsq\n",
    "uvp_xtk_dsq_1 = []\n",
    "for u in uvp_xtk_sph_1:\n",
    "    uvp_xtk_dsq_1.append(u.convert_to_deltasq(inplace=False))\n",
    "uvp_xtk_dsq_2 = []\n",
    "for u in uvp_xtk_sph_2:\n",
    "    uvp_xtk_dsq_2.append(u.convert_to_deltasq(inplace=False))    "
   ]
  },
  {
   "cell_type": "code",
   "execution_count": null,
   "metadata": {
    "ExecuteTime": {
     "start_time": "2022-04-19T17:00:23.775Z"
    }
   },
   "outputs": [],
   "source": [
    "fig = plt.figure(figsize=(6, 5), dpi=100)\n",
    "fig.subplots_adjust(hspace=0.0)\n",
    "\n",
    "# set params\n",
    "plot_window = True\n",
    "component = 'real'\n",
    "field = 2 # C\n",
    "\n",
    "spw = 1\n",
    "uvp_xtk_dsq = [uvp_xtk_dsq_1, uvp_xtk_dsq_2][spw]\n",
    "u = uvp_xtk_dsq[fields_used.index(field)]\n",
    "kp = u.get_kparas(spw)\n",
    "ks = slice(np.argmin(np.abs(kp - 0.128)), None, 1)\n",
    "c = 'deeppink'\n",
    "\n",
    "# get data\n",
    "y = u.data_array[spw].real.squeeze().copy()[ks].copy()\n",
    "y[y < 0] *= 0\n",
    "yerr = np.sqrt(u.cov_array_real[spw].squeeze().diagonal())[ks]\n",
    "pn = u.stats_array['P_N'][spw].real.squeeze()[ks]\n",
    "pn[pn <= 0] = np.nan\n",
    "kbins = u.get_kparas(spw)\n",
    "k = kbins[ks]\n",
    "z = u.cosmo.f2z(np.mean(u.get_spw_ranges()[spw][:2]))\n",
    "xlim = .02, 2\n",
    "\n",
    "# get x errorbars from window func\n",
    "x, xerr_low, xerr_hi = sqe.utils.interp_Wcdf(u.window_function_array[spw].squeeze(), kbins)\n",
    "xerr = np.array([xerr_low, xerr_hi]).T[ks]\n",
    "\n",
    "grid = gridspec.GridSpec(3, 3)\n",
    "if plot_window:\n",
    "    ax = fig.add_subplot(grid[:2, :])\n",
    "else:\n",
    "    ax = fig.add_subplot(grid[:, :])\n",
    "\n",
    "if component == 'abs-real':\n",
    "    p1 = ax.errorbar(k, np.abs(y), marker='o', ms=6, ls='', yerr=yerr * 2, c=c)\n",
    "else:\n",
    "    p1 = ax.errorbar(k, np.real(y), marker='o', ms=6, ls='',\n",
    "                     yerr=yerr * 2, c=c, xerr=xerr.T, lw=1)\n",
    "\n",
    "p2, = ax.plot(k, pn, c='k', ls='--', lw=3)\n",
    "\n",
    "ax.tick_params(labelsize=14, direction='in', size=5)\n",
    "ax.tick_params(direction='in', size=3, which='minor')\n",
    "ax.set_yscale('log')\n",
    "ax.grid()\n",
    "ax.set_xlim(xlim)\n",
    "ax.set_ylim(2e1, 1e6)\n",
    "ax.legend([p1, p2], [r'$\\Delta^2(k,\\ z={:.1f})\\ \\pm\\ 2\\sigma$'.format(z), r'$P_N$'],\n",
    "          fontsize=14, loc=2, ncol=1)\n",
    "if not plot_window:\n",
    "    ax.set_xlabel(r'$k\\ [h\\ {\\rm Mpc}^{-1}$]', fontsize=18)\n",
    "else:\n",
    "    ax.set_xticklabels([])\n",
    "ax.set_ylabel(r'$\\Delta^2\\ [{\\rm mK}^2]$', fontsize=18)\n",
    "\n",
    "if plot_window:\n",
    "    ax = fig.add_subplot(grid[2:, :])\n",
    "    ax.tick_params(labelsize=14, direction='in', size=5, top=True, bottom=True)\n",
    "    ax.plot(kbins, u.window_function_array[spw].squeeze()[:, ks], c='k', lw=1.5)\n",
    "    ax.set_xlim(xlim)\n",
    "    ax.set_ylim(1e-2, 0.9)\n",
    "    ax.set_xlabel(r'$k\\ [h\\ {\\rm Mpc}^{-1}$]', fontsize=18)\n",
    "    ax.set_ylabel(r\"$W(k)$\", fontsize=18)\n",
    "    #ax.set_yscale('log')\n",
    "    \n",
    "#fig.savefig('plots/band2_field1_wf.pdf', dpi=100, bbox_inches='tight')\n",
    "plt.savefig(f'{figures_folder}/{prefix}limits_band_{spw+1}_field_{\"ABCDEFGHIJ\"[field]}.png', dpi=200)"
   ]
  },
  {
   "cell_type": "markdown",
   "metadata": {},
   "source": [
    "## Plot all $\\Delta^2(k)$ (real and imaginary)"
   ]
  },
  {
   "cell_type": "code",
   "execution_count": null,
   "metadata": {
    "ExecuteTime": {
     "start_time": "2022-04-19T17:00:23.777Z"
    },
    "scrolled": false
   },
   "outputs": [],
   "source": [
    "xlim = .02, 2\n",
    "ylim = 2e1, 2e6\n",
    "\n",
    "# loop over real and imaginary power spectra\n",
    "for func, c in [(np.real, 'deeppink'), (np.imag, 'royalblue')]:\n",
    "    fig, axes = plt.subplots(2, len(uvp_xtk_dsq_1), figsize=(16, 8))\n",
    "    fig.subplots_adjust(wspace=0.05, hspace=0.05)\n",
    "\n",
    "    for i in range(2):\n",
    "        uvp_xtk_dsq = [uvp_xtk_dsq_1, uvp_xtk_dsq_2][i]\n",
    "        for j in range(len(uvp_xtk_dsq)):\n",
    "            # get data\n",
    "            ax = axes[i, j]\n",
    "            u = uvp_xtk_dsq[j]\n",
    "            spw = i\n",
    "            \n",
    "            # get power spectra and vertical error bars\n",
    "            y = func(u.data_array[spw].squeeze().copy()[ks].copy())\n",
    "            y[y < 0] *= 0\n",
    "            yerr = np.sqrt(np.diagonal(u.cov_array_real[spw].squeeze()))[ks]\n",
    "            pn = u.stats_array['P_N'][spw].real.squeeze()[ks]\n",
    "            pn[pn <= 0] = np.nan\n",
    "            kbins = u.get_kparas(spw)\n",
    "            k = kbins[ks]\n",
    "            z = u.cosmo.f2z(np.mean(u.get_spw_ranges()[spw][:2]))       \n",
    "\n",
    "            # get x errorbars from window func\n",
    "            x, xerr_low, xerr_hi = sqe.utils.interp_Wcdf(u.window_function_array[spw].squeeze(), kbins)\n",
    "            xerr = np.array([xerr_low, xerr_hi]).T[ks]\n",
    "            # plot data\n",
    "            p1 = ax.errorbar(k, y, marker='o', ms=6, ls='',\n",
    "                             yerr=yerr * 2, c=c, xerr=xerr.T, lw=1)\n",
    "            p2, = ax.plot(k, pn, c='k', ls='--', lw=3)\n",
    "\n",
    "            # handle subplot\n",
    "            ax.tick_params(labelsize=16, direction='in', size=5)\n",
    "            ax.tick_params(direction='in', size=3, which='minor')\n",
    "            ax.set_yscale('log')\n",
    "            ax.grid()\n",
    "            ax.set_xlim(xlim)\n",
    "            ax.set_ylim(ylim)\n",
    "            ax.text(0.05, 0.9, \"Band {}, Field {}\".format(i+1, \"ABCDEFGHIJ\"[fields_used[j]]), fontsize=18,\n",
    "                    transform=ax.transAxes, bbox=dict(fc='w', ec='grey', alpha=0.9))\n",
    "            if i == 0:\n",
    "                ax.set_xticklabels([])\n",
    "            else:\n",
    "                ax.set_xlabel(r\"$k\\ [h\\ {\\rm Mpc}^{-1}]$\", fontsize=22)\n",
    "            if j == 0:\n",
    "                if func == np.real:\n",
    "                    ax.set_ylabel(r\"$\\Delta^2\\ [{\\rm mK}^2]$\", fontsize=22)\n",
    "                else:\n",
    "                    ax.set_ylabel(r\"Im$[\\Delta^2]\\ [{\\rm mK}^2]$\", fontsize=22)\n",
    "            else:    \n",
    "                ax.set_yticklabels([])\n",
    "    \n",
    "    plt.tight_layout()\n",
    "    if func == np.imag:\n",
    "        plt.savefig(f'{figures_folder}/{prefix}all_imaginary_limits.png', dpi=200)\n",
    "    else:\n",
    "        plt.savefig(f'{figures_folder}/{prefix}all_limits.png', dpi=200)"
   ]
  },
  {
   "cell_type": "code",
   "execution_count": null,
   "metadata": {
    "ExecuteTime": {
     "start_time": "2022-04-19T17:00:23.780Z"
    }
   },
   "outputs": [],
   "source": [
    "max_k = 1\n",
    "\n",
    "for spw in [0, 1]:\n",
    "\n",
    "    uvp_xtk_dsq = [uvp_xtk_dsq_1, uvp_xtk_dsq_2][spw]\n",
    "    table_created = False\n",
    "    for field in range(len(uvp_xtk_dsq)):\n",
    "        ks = uvp_xtk_dsq[field].get_kparas(spw)\n",
    "        deltasq = uvp_xtk_dsq[field].data_array[spw].squeeze().copy().real\n",
    "        deltasq_err = np.sqrt(uvp_xtk_dsq[field].cov_array_real[spw].squeeze().diagonal())\n",
    "        deltasq_ul = np.array([dsq if dsq > 0 else 0 for dsq in deltasq]) + 2 * deltasq_err\n",
    "\n",
    "        to_use = (ks <= max_k) & (deltasq_err > 0)\n",
    "        if len(deltasq_ul[to_use]) == 0:\n",
    "            continue\n",
    "        \n",
    "        if not table_created:\n",
    "            table = np.vstack([deltasq[to_use], deltasq_err[to_use], deltasq_ul[to_use]])\n",
    "            table_created = True\n",
    "        else:\n",
    "            table = np.vstack([table, deltasq[to_use], deltasq_err[to_use], deltasq_ul[to_use]])\n",
    "\n",
    "    df = pd.DataFrame(table.T)\n",
    "\n",
    "    col_ix = pd.MultiIndex.from_product([[f'Field {\"ABCDEFGHIJ\"[field]}' for field in fields_used], \n",
    "                                         ['$\\Delta^{2}(k)$', '$1\\sigma$', '$\\Delta^{2}_{UL}$']]) \n",
    "    df.columns = col_ix\n",
    "    df.insert(0, r\"$k\\ [h\\ {\\rm Mpc}^{-1}]$\", ks[to_use])\n",
    "\n",
    "    def css_border(x):\n",
    "        return [\"border-left: 1px solid black\" if (i%3==1) else \"border: 0px\" for i, col in enumerate(x)]\n",
    "    display(HTML(f'<h2>Band {spw+1}:</h2>'))\n",
    "    \n",
    "    to_display = df.style.hide_index() \\\n",
    "                   .format(\"{:,.2f}\") \\\n",
    "                   .apply(css_border, axis=1) \\\n",
    "                   .set_properties(width='80px')\n",
    "    \n",
    "    display(HTML(to_display.render()))"
   ]
  },
  {
   "cell_type": "markdown",
   "metadata": {},
   "source": [
    "## Plot all $P(k)$ on a linear scale"
   ]
  },
  {
   "cell_type": "code",
   "execution_count": null,
   "metadata": {
    "ExecuteTime": {
     "start_time": "2022-04-19T17:00:23.781Z"
    },
    "scrolled": false
   },
   "outputs": [],
   "source": [
    "fig, axes = plt.subplots(4, len(uvp_xtk_sph_1), figsize=(18, 12))\n",
    "fig.subplots_adjust(wspace=0.05, hspace=0.05)\n",
    "\n",
    "# set params\n",
    "xlim = .02, 2.1\n",
    "\n",
    "for i in range(4):\n",
    "    ylim_set = False\n",
    "    spw = i // 2\n",
    "    uvp_xtk_sph = [uvp_xtk_sph_1, uvp_xtk_sph_2][spw]\n",
    "    for j in range(len(uvp_xtk_sph)):\n",
    "        # get data\n",
    "        ax = axes[i, j]\n",
    "        ax.yaxis.set_major_formatter(ticker.FormatStrFormatter('%.0e'))\n",
    "        u = uvp_xtk_sph[j]\n",
    "\n",
    "        kp = u.get_kparas(spw)\n",
    "        if i % 2 == 0:\n",
    "            comp = np.real\n",
    "            c = 'deeppink'\n",
    "        else:\n",
    "            comp = np.imag\n",
    "            c = 'royalblue'\n",
    "        y = comp(u.data_array[spw].squeeze().copy()).copy()\n",
    "        yerr = np.sqrt(np.diagonal(u.cov_array_real[spw].squeeze()))\n",
    "        pn = u.stats_array['P_N'][spw].real.squeeze()\n",
    "        k = kp#ks[ks]\n",
    "        \n",
    "        # cut out bins with 0 or non-finite errors\n",
    "        to_use = (pn > 0) | ~np.isfinite(pn)\n",
    "        y = y[to_use]        \n",
    "        yerr = yerr[to_use]\n",
    "        pn = pn[to_use]\n",
    "        k = k[to_use]\n",
    "        if len(y) == 0:\n",
    "            continue\n",
    "                \n",
    "        # plot data\n",
    "        p1 = ax.errorbar(k, y, marker='o', ms=3, ls='',\n",
    "                         yerr=yerr * 2, c=c, lw=.75)\n",
    "        ax.fill_between(k, -2*pn, 2*pn, color='k', alpha=0.2, zorder=0)\n",
    "\n",
    "        # handle subplot\n",
    "        ax.tick_params(labelsize=16, direction='in', size=5)\n",
    "        ax.tick_params(direction='in', size=3, which='minor')\n",
    "        ax.grid()\n",
    "        ax.set_xlim(xlim)\n",
    "        if not ylim_set:\n",
    "            ylim = -np.median(pn[np.isfinite(pn)])*3.2, np.median(pn[np.isfinite(pn)])*3.2\n",
    "            ylim_set = True\n",
    "        ax.set_ylim(ylim)\n",
    "        ax.text(0.96, 0.9, \"Band {} Field {}\".format((i//2)+1, (\"ABCDEFGHIJ\"[fields_used[j]])), fontsize=16, ha='right',\n",
    "                transform=ax.transAxes, bbox=dict(fc='w', ec='grey', alpha=0.9))\n",
    "        if i < 3:\n",
    "            ax.set_xticklabels([])\n",
    "        else:\n",
    "            ax.set_xlabel(r\"$k\\ [h\\ {\\rm Mpc}^{-1}]$\", fontsize=16)\n",
    "        if j == 0:\n",
    "            if i % 2 == 0:\n",
    "                ax.set_ylabel(r\"$P(k)\\ [{\\rm mK}^2\\ h^{-3}\\ {\\rm Mpc}^3]$\", fontsize=16)\n",
    "            else:\n",
    "                ax.set_ylabel(r\"Im$[P(k)]\\ [{\\rm mK}^2\\ h^{-3}\\ {\\rm Mpc}^3]$\", fontsize=16)\n",
    "        else:\n",
    "            ax.set_yticklabels([])\n",
    "\n",
    "plt.tight_layout()\n",
    "plt.savefig(f'{figures_folder}/{prefix}integrated_sph.png', dpi=200)"
   ]
  },
  {
   "cell_type": "markdown",
   "metadata": {},
   "source": [
    "## Print table of upper limits"
   ]
  },
  {
   "cell_type": "code",
   "execution_count": null,
   "metadata": {
    "ExecuteTime": {
     "start_time": "2022-04-19T17:00:23.783Z"
    }
   },
   "outputs": [],
   "source": [
    "max_k = 1\n",
    "\n",
    "for spw in [0, 1]:\n",
    "\n",
    "    uvp_xtk_dsq = [uvp_xtk_dsq_1, uvp_xtk_dsq_2][spw]\n",
    "    table_created = False\n",
    "    for field in range(len(uvp_xtk_dsq)):\n",
    "        ks = uvp_xtk_dsq[field].get_kparas(spw)\n",
    "        deltasq = uvp_xtk_dsq[field].data_array[spw].squeeze().copy().real\n",
    "        deltasq_err = np.sqrt(uvp_xtk_dsq[field].cov_array_real[spw].squeeze().diagonal())\n",
    "        deltasq_ul = np.array([dsq if dsq > 0 else 0 for dsq in deltasq]) + 2 * deltasq_err\n",
    "\n",
    "        to_use = (ks <= max_k) & (deltasq_err > 0)\n",
    "        if len(deltasq_ul[to_use]) == 0:\n",
    "            continue\n",
    "        \n",
    "        if not table_created:\n",
    "            table = np.vstack([deltasq[to_use], deltasq_err[to_use], deltasq_ul[to_use]])\n",
    "            table_created = True\n",
    "        else:\n",
    "            table = np.vstack([table, deltasq[to_use], deltasq_err[to_use], deltasq_ul[to_use]])\n",
    "\n",
    "    df = pd.DataFrame(table.T)\n",
    "\n",
    "    col_ix = pd.MultiIndex.from_product([[f'Field {\"ABCDEFGHIJ\"[field]}' for field in fields_used], \n",
    "                                         ['$\\Delta^{2}(k)$', '$1\\sigma$', '$\\Delta^{2}_{UL}$']]) \n",
    "    df.columns = col_ix\n",
    "    df.insert(0, r\"$k\\ [h\\ {\\rm Mpc}^{-1}]$\", ks[to_use])\n",
    "\n",
    "    def css_border(x):\n",
    "        return [\"border-left: 1px solid black\" if (i%3==1) else \"border: 0px\" for i, col in enumerate(x)]\n",
    "    display(HTML(f'<h2>Band {spw+1}:</h2>'))\n",
    "    \n",
    "    to_display = df.style.hide_index() \\\n",
    "                   .format(\"{:,.2f}\") \\\n",
    "                   .apply(css_border, axis=1) \\\n",
    "                   .set_properties(width='80px')\n",
    "    \n",
    "    display(HTML(to_display.render()))"
   ]
  },
  {
   "cell_type": "markdown",
   "metadata": {},
   "source": [
    "# Save Results"
   ]
  },
  {
   "cell_type": "code",
   "execution_count": null,
   "metadata": {
    "ExecuteTime": {
     "start_time": "2022-04-19T17:00:23.784Z"
    }
   },
   "outputs": [],
   "source": [
    "# results are saved to h5 files per-band and per-field\n",
    "for spw in [0, 1]:\n",
    "    uvp_xtk_sph = [uvp_xtk_sph_1, uvp_xtk_sph_2][spw]\n",
    "    uvp_xtk_dsq = [uvp_xtk_dsq_1, uvp_xtk_dsq_2][spw]        \n",
    "    \n",
    "    for field in range(len(uvp_xtk_sph)):\n",
    "        uvp = copy.deepcopy(uvp_xtk_sph[field])\n",
    "        uvp.select(spws=[spw])\n",
    "        \n",
    "        # move on if there's no data here\n",
    "        ks = uvp.get_kparas(0)\n",
    "        deltasq_err = np.sqrt(uvp.cov_array_real[0].squeeze().diagonal())\n",
    "        to_use = (ks <= max_k) & (deltasq_err > 0)\n",
    "        if len(deltasq_err[to_use]) == 0:\n",
    "            continue        \n",
    "        \n",
    "        # write P(k)\n",
    "        outfilename = f'{results_folder}/{prefix}Pofk_Band_{spw+1}_Field_{\"ABCDEFGHIJ\"[fields_used[field]]}.h5'\n",
    "        uvp.write_hdf5(outfilename, overwrite=True)\n",
    "        \n",
    "        # now write Delta sq\n",
    "        uvp = copy.deepcopy(uvp_xtk_dsq[field])\n",
    "        uvp.select(spws=[spw])\n",
    "        outfilename = f'{results_folder}/{prefix}Deltasq_Band_{spw+1}_Field_{\"ABCDEFGHIJ\"[fields_used[field]]}.h5'\n",
    "        uvp.write_hdf5(outfilename, overwrite=True)    "
   ]
  },
  {
   "cell_type": "code",
   "execution_count": null,
   "metadata": {},
   "outputs": [],
   "source": []
  }
 ],
 "metadata": {
  "kernelspec": {
   "display_name": "Python 3 (ipykernel)",
   "language": "python",
   "name": "python3"
  },
  "language_info": {
   "codemirror_mode": {
    "name": "ipython",
    "version": 3
   },
   "file_extension": ".py",
   "mimetype": "text/x-python",
   "name": "python",
   "nbconvert_exporter": "python",
   "pygments_lexer": "ipython3",
   "version": "3.9.9"
  },
  "toc": {
   "base_numbering": 1,
   "nav_menu": {},
   "number_sections": true,
   "sideBar": true,
   "skip_h1_title": false,
   "title_cell": "Table of Contents",
   "title_sidebar": "Contents",
   "toc_cell": false,
   "toc_position": {
    "height": "calc(100% - 180px)",
    "left": "10px",
    "top": "150px",
    "width": "305.391px"
   },
   "toc_section_display": true,
   "toc_window_display": false
  },
  "varInspector": {
   "cols": {
    "lenName": 16,
    "lenType": 16,
    "lenVar": 40
   },
   "kernels_config": {
    "python": {
     "delete_cmd_postfix": "",
     "delete_cmd_prefix": "del ",
     "library": "var_list.py",
     "varRefreshCmd": "print(var_dic_list())"
    },
    "r": {
     "delete_cmd_postfix": ") ",
     "delete_cmd_prefix": "rm(",
     "library": "var_list.r",
     "varRefreshCmd": "cat(var_dic_list()) "
    }
   },
   "types_to_exclude": [
    "module",
    "function",
    "builtin_function_or_method",
    "instance",
    "_Feature"
   ],
   "window_display": false
  }
 },
 "nbformat": 4,
 "nbformat_minor": 4
}
